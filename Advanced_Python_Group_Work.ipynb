{
 "cells": [
  {
   "cell_type": "markdown",
   "metadata": {},
   "source": [
    "## ADVANCED PROGRAMMING IN PYTHON GROUP WORK"
   ]
  },
  {
   "cell_type": "markdown",
   "metadata": {},
   "source": [
    "### PREDICTING CUSTOMER CHURN FOR TELECOMMUNICATIONS COMPANIES IN GHANA"
   ]
  },
  {
   "cell_type": "markdown",
   "metadata": {},
   "source": [
    "| Name                   | Index Number |\n",
    "|------------------------|--------------|\n",
    "| Benedict Ampofo Asamoah| 2425500121   |\n",
    "| Baidoo Fiifi           | 2425500044   |\n",
    "| Odoom Nicholas         | 2425500140   |\n",
    "| Daniel Abankwa         | 2425500143   |\n",
    "| Elizabeth Edem Nayo    | 2425500036   |\n",
    "| Otabie Nkum James      | 2425500047   |"
   ]
  },
  {
   "cell_type": "code",
   "execution_count": 1,
   "metadata": {},
   "outputs": [],
   "source": [
    "import numpy as np\n",
    "import pandas as pd\n",
    "import seaborn as sns\n",
    "import matplotlib.pyplot as plt\n",
    "import plotly.express as px\n",
    "%matplotlib inline\n",
    "\n",
    "import warnings\n",
    "warnings.filterwarnings('ignore')"
   ]
  },
  {
   "cell_type": "code",
   "execution_count": 2,
   "metadata": {},
   "outputs": [],
   "source": [
    "## Reading the data set\n",
    "df = pd.read_csv(f'GhanaTelecomData.csv')"
   ]
  },
  {
   "cell_type": "code",
   "execution_count": 3,
   "metadata": {},
   "outputs": [
    {
     "data": {
      "text/html": [
       "<div>\n",
       "<style scoped>\n",
       "    .dataframe tbody tr th:only-of-type {\n",
       "        vertical-align: middle;\n",
       "    }\n",
       "\n",
       "    .dataframe tbody tr th {\n",
       "        vertical-align: top;\n",
       "    }\n",
       "\n",
       "    .dataframe thead th {\n",
       "        text-align: right;\n",
       "    }\n",
       "</style>\n",
       "<table border=\"1\" class=\"dataframe\">\n",
       "  <thead>\n",
       "    <tr style=\"text-align: right;\">\n",
       "      <th></th>\n",
       "      <th>AgeGroup</th>\n",
       "      <th>Gender</th>\n",
       "      <th>Education</th>\n",
       "      <th>EmploymentStatus</th>\n",
       "      <th>TelecomCompany</th>\n",
       "      <th>ReasonForChoosing</th>\n",
       "      <th>DurationWithCompany</th>\n",
       "      <th>PlanType</th>\n",
       "      <th>MonthlyCharges</th>\n",
       "      <th>Churn</th>\n",
       "      <th>ChurnReason_NetworkCoverage</th>\n",
       "      <th>ChurnReason_CustomerService</th>\n",
       "      <th>ChurnReason_Pricing</th>\n",
       "      <th>ChurnLikelihood</th>\n",
       "      <th>MonthlyCharges_Numeric</th>\n",
       "      <th>Gender_NuUmeric</th>\n",
       "      <th>AgeGroup_Numeric</th>\n",
       "    </tr>\n",
       "  </thead>\n",
       "  <tbody>\n",
       "    <tr>\n",
       "      <th>0</th>\n",
       "      <td>25-34</td>\n",
       "      <td>Transgender</td>\n",
       "      <td>Primary School</td>\n",
       "      <td>Retired</td>\n",
       "      <td>AirtelTigo</td>\n",
       "      <td>Coverage</td>\n",
       "      <td>1-2 years</td>\n",
       "      <td>Both</td>\n",
       "      <td>GHS 101-200</td>\n",
       "      <td>No</td>\n",
       "      <td>False</td>\n",
       "      <td>False</td>\n",
       "      <td>False</td>\n",
       "      <td>2</td>\n",
       "      <td>4</td>\n",
       "      <td>3</td>\n",
       "      <td>2</td>\n",
       "    </tr>\n",
       "    <tr>\n",
       "      <th>1</th>\n",
       "      <td>55-64</td>\n",
       "      <td>Male</td>\n",
       "      <td>High school graduate</td>\n",
       "      <td>Employed part-time</td>\n",
       "      <td>Vodafone</td>\n",
       "      <td>Customer Service</td>\n",
       "      <td>6-12 months</td>\n",
       "      <td>Postpaid</td>\n",
       "      <td>GHS 301-400</td>\n",
       "      <td>Yes</td>\n",
       "      <td>True</td>\n",
       "      <td>True</td>\n",
       "      <td>True</td>\n",
       "      <td>1</td>\n",
       "      <td></td>\n",
       "      <td>1</td>\n",
       "      <td>5</td>\n",
       "    </tr>\n",
       "    <tr>\n",
       "      <th>2</th>\n",
       "      <td>45-54</td>\n",
       "      <td>Female</td>\n",
       "      <td>High school graduate</td>\n",
       "      <td>Employed full-time</td>\n",
       "      <td>MTN</td>\n",
       "      <td>Coverage</td>\n",
       "      <td>3-4 years</td>\n",
       "      <td>Both</td>\n",
       "      <td>GHS 101-200</td>\n",
       "      <td>Yes</td>\n",
       "      <td>False</td>\n",
       "      <td>False</td>\n",
       "      <td>True</td>\n",
       "      <td>2</td>\n",
       "      <td>4</td>\n",
       "      <td>2</td>\n",
       "      <td>4</td>\n",
       "    </tr>\n",
       "    <tr>\n",
       "      <th>3</th>\n",
       "      <td>25-34</td>\n",
       "      <td>Transgender</td>\n",
       "      <td>Postgraduate</td>\n",
       "      <td>Self-employed</td>\n",
       "      <td>MTN</td>\n",
       "      <td>Pricing</td>\n",
       "      <td>3-4 years</td>\n",
       "      <td>Postpaid</td>\n",
       "      <td>More than GHS 400</td>\n",
       "      <td>Yes</td>\n",
       "      <td>True</td>\n",
       "      <td>True</td>\n",
       "      <td>False</td>\n",
       "      <td>5</td>\n",
       "      <td>7</td>\n",
       "      <td>3</td>\n",
       "      <td>2</td>\n",
       "    </tr>\n",
       "    <tr>\n",
       "      <th>4</th>\n",
       "      <td>25-34</td>\n",
       "      <td>Transgender</td>\n",
       "      <td>Primary School</td>\n",
       "      <td>Employed full-time</td>\n",
       "      <td>Glo</td>\n",
       "      <td>Customer Service</td>\n",
       "      <td>Less than 6 months</td>\n",
       "      <td>Both</td>\n",
       "      <td>More than GHS 400</td>\n",
       "      <td>No</td>\n",
       "      <td>False</td>\n",
       "      <td>True</td>\n",
       "      <td>False</td>\n",
       "      <td>1</td>\n",
       "      <td>7</td>\n",
       "      <td>3</td>\n",
       "      <td>2</td>\n",
       "    </tr>\n",
       "  </tbody>\n",
       "</table>\n",
       "</div>"
      ],
      "text/plain": [
       "  AgeGroup       Gender             Education    EmploymentStatus  \\\n",
       "0    25-34  Transgender        Primary School             Retired   \n",
       "1    55-64         Male  High school graduate  Employed part-time   \n",
       "2    45-54       Female  High school graduate  Employed full-time   \n",
       "3    25-34  Transgender          Postgraduate       Self-employed   \n",
       "4    25-34  Transgender        Primary School  Employed full-time   \n",
       "\n",
       "  TelecomCompany ReasonForChoosing DurationWithCompany  PlanType  \\\n",
       "0     AirtelTigo          Coverage           1-2 years      Both   \n",
       "1       Vodafone  Customer Service         6-12 months  Postpaid   \n",
       "2            MTN          Coverage           3-4 years      Both   \n",
       "3            MTN           Pricing           3-4 years  Postpaid   \n",
       "4            Glo  Customer Service  Less than 6 months      Both   \n",
       "\n",
       "      MonthlyCharges Churn  ChurnReason_NetworkCoverage  \\\n",
       "0        GHS 101-200    No                        False   \n",
       "1        GHS 301-400   Yes                         True   \n",
       "2        GHS 101-200   Yes                        False   \n",
       "3  More than GHS 400   Yes                         True   \n",
       "4  More than GHS 400    No                        False   \n",
       "\n",
       "   ChurnReason_CustomerService  ChurnReason_Pricing  ChurnLikelihood  \\\n",
       "0                        False                False                2   \n",
       "1                         True                 True                1   \n",
       "2                        False                 True                2   \n",
       "3                         True                False                5   \n",
       "4                         True                False                1   \n",
       "\n",
       "  MonthlyCharges_Numeric  Gender_NuUmeric  AgeGroup_Numeric  \n",
       "0                      4                3                 2  \n",
       "1                                       1                 5  \n",
       "2                      4                2                 4  \n",
       "3                      7                3                 2  \n",
       "4                      7                3                 2  "
      ]
     },
     "execution_count": 3,
     "metadata": {},
     "output_type": "execute_result"
    }
   ],
   "source": [
    "## Checking the first few rows\n",
    "df.head()"
   ]
  },
  {
   "cell_type": "code",
   "execution_count": 4,
   "metadata": {},
   "outputs": [
    {
     "data": {
      "text/plain": [
       "(1971, 17)"
      ]
     },
     "execution_count": 4,
     "metadata": {},
     "output_type": "execute_result"
    }
   ],
   "source": [
    "## Check the shape\n",
    "df.shape"
   ]
  },
  {
   "cell_type": "code",
   "execution_count": 5,
   "metadata": {},
   "outputs": [
    {
     "name": "stdout",
     "output_type": "stream",
     "text": [
      "<class 'pandas.core.frame.DataFrame'>\n",
      "RangeIndex: 1971 entries, 0 to 1970\n",
      "Data columns (total 17 columns):\n",
      " #   Column                       Non-Null Count  Dtype \n",
      "---  ------                       --------------  ----- \n",
      " 0   AgeGroup                     1971 non-null   object\n",
      " 1   Gender                       1971 non-null   object\n",
      " 2   Education                    1971 non-null   object\n",
      " 3   EmploymentStatus             1971 non-null   object\n",
      " 4   TelecomCompany               1971 non-null   object\n",
      " 5   ReasonForChoosing            1971 non-null   object\n",
      " 6   DurationWithCompany          1971 non-null   object\n",
      " 7   PlanType                     1971 non-null   object\n",
      " 8   MonthlyCharges               1971 non-null   object\n",
      " 9   Churn                        1971 non-null   object\n",
      " 10  ChurnReason_NetworkCoverage  1971 non-null   bool  \n",
      " 11  ChurnReason_CustomerService  1971 non-null   bool  \n",
      " 12  ChurnReason_Pricing          1971 non-null   bool  \n",
      " 13  ChurnLikelihood              1971 non-null   int64 \n",
      " 14  MonthlyCharges_Numeric       1971 non-null   object\n",
      " 15  Gender_NuUmeric              1971 non-null   int64 \n",
      " 16  AgeGroup_Numeric             1971 non-null   int64 \n",
      "dtypes: bool(3), int64(3), object(11)\n",
      "memory usage: 221.5+ KB\n"
     ]
    }
   ],
   "source": [
    "## Check the overall information\n",
    "df.info()"
   ]
  },
  {
   "cell_type": "code",
   "execution_count": 6,
   "metadata": {},
   "outputs": [
    {
     "data": {
      "text/html": [
       "<div>\n",
       "<style scoped>\n",
       "    .dataframe tbody tr th:only-of-type {\n",
       "        vertical-align: middle;\n",
       "    }\n",
       "\n",
       "    .dataframe tbody tr th {\n",
       "        vertical-align: top;\n",
       "    }\n",
       "\n",
       "    .dataframe thead th {\n",
       "        text-align: right;\n",
       "    }\n",
       "</style>\n",
       "<table border=\"1\" class=\"dataframe\">\n",
       "  <thead>\n",
       "    <tr style=\"text-align: right;\">\n",
       "      <th></th>\n",
       "      <th>ChurnLikelihood</th>\n",
       "      <th>Gender_NuUmeric</th>\n",
       "      <th>AgeGroup_Numeric</th>\n",
       "    </tr>\n",
       "  </thead>\n",
       "  <tbody>\n",
       "    <tr>\n",
       "      <th>count</th>\n",
       "      <td>1971.000000</td>\n",
       "      <td>1971.000000</td>\n",
       "      <td>1971.000000</td>\n",
       "    </tr>\n",
       "    <tr>\n",
       "      <th>mean</th>\n",
       "      <td>3.150178</td>\n",
       "      <td>2.510908</td>\n",
       "      <td>2.941147</td>\n",
       "    </tr>\n",
       "    <tr>\n",
       "      <th>std</th>\n",
       "      <td>1.442915</td>\n",
       "      <td>1.113032</td>\n",
       "      <td>1.416934</td>\n",
       "    </tr>\n",
       "    <tr>\n",
       "      <th>min</th>\n",
       "      <td>1.000000</td>\n",
       "      <td>1.000000</td>\n",
       "      <td>1.000000</td>\n",
       "    </tr>\n",
       "    <tr>\n",
       "      <th>25%</th>\n",
       "      <td>2.000000</td>\n",
       "      <td>1.000000</td>\n",
       "      <td>2.000000</td>\n",
       "    </tr>\n",
       "    <tr>\n",
       "      <th>50%</th>\n",
       "      <td>3.000000</td>\n",
       "      <td>3.000000</td>\n",
       "      <td>3.000000</td>\n",
       "    </tr>\n",
       "    <tr>\n",
       "      <th>75%</th>\n",
       "      <td>5.000000</td>\n",
       "      <td>3.000000</td>\n",
       "      <td>4.000000</td>\n",
       "    </tr>\n",
       "    <tr>\n",
       "      <th>max</th>\n",
       "      <td>5.000000</td>\n",
       "      <td>4.000000</td>\n",
       "      <td>5.000000</td>\n",
       "    </tr>\n",
       "  </tbody>\n",
       "</table>\n",
       "</div>"
      ],
      "text/plain": [
       "       ChurnLikelihood  Gender_NuUmeric  AgeGroup_Numeric\n",
       "count      1971.000000      1971.000000       1971.000000\n",
       "mean          3.150178         2.510908          2.941147\n",
       "std           1.442915         1.113032          1.416934\n",
       "min           1.000000         1.000000          1.000000\n",
       "25%           2.000000         1.000000          2.000000\n",
       "50%           3.000000         3.000000          3.000000\n",
       "75%           5.000000         3.000000          4.000000\n",
       "max           5.000000         4.000000          5.000000"
      ]
     },
     "execution_count": 6,
     "metadata": {},
     "output_type": "execute_result"
    }
   ],
   "source": [
    "df.describe()"
   ]
  },
  {
   "cell_type": "code",
   "execution_count": 7,
   "metadata": {},
   "outputs": [
    {
     "data": {
      "text/plain": [
       "Index(['AgeGroup', 'Gender', 'Education', 'EmploymentStatus', 'TelecomCompany',\n",
       "       'ReasonForChoosing', 'DurationWithCompany', 'PlanType',\n",
       "       'MonthlyCharges', 'Churn', 'ChurnReason_NetworkCoverage',\n",
       "       'ChurnReason_CustomerService', 'ChurnReason_Pricing', 'ChurnLikelihood',\n",
       "       'MonthlyCharges_Numeric', 'Gender_NuUmeric', 'AgeGroup_Numeric'],\n",
       "      dtype='object')"
      ]
     },
     "execution_count": 7,
     "metadata": {},
     "output_type": "execute_result"
    }
   ],
   "source": [
    "df.columns"
   ]
  },
  {
   "cell_type": "code",
   "execution_count": 8,
   "metadata": {},
   "outputs": [
    {
     "data": {
      "text/plain": [
       "AgeGroup                       object\n",
       "Gender                         object\n",
       "Education                      object\n",
       "EmploymentStatus               object\n",
       "TelecomCompany                 object\n",
       "ReasonForChoosing              object\n",
       "DurationWithCompany            object\n",
       "PlanType                       object\n",
       "MonthlyCharges                 object\n",
       "Churn                          object\n",
       "ChurnReason_NetworkCoverage      bool\n",
       "ChurnReason_CustomerService      bool\n",
       "ChurnReason_Pricing              bool\n",
       "ChurnLikelihood                 int64\n",
       "MonthlyCharges_Numeric         object\n",
       "Gender_NuUmeric                 int64\n",
       "AgeGroup_Numeric                int64\n",
       "dtype: object"
      ]
     },
     "execution_count": 8,
     "metadata": {},
     "output_type": "execute_result"
    }
   ],
   "source": [
    "df.dtypes"
   ]
  },
  {
   "cell_type": "code",
   "execution_count": 9,
   "metadata": {},
   "outputs": [],
   "source": [
    "## Change the 'object' columns into 'category'"
   ]
  },
  {
   "cell_type": "code",
   "execution_count": 10,
   "metadata": {},
   "outputs": [],
   "source": [
    "df['AgeGroup'] = df['AgeGroup'].astype('category')\n",
    "df['Gender'] = df['Gender'].astype('category')\n",
    "df['Education'] = df['Education'].astype('category')\n",
    "df['EmploymentStatus'] = df['EmploymentStatus'].astype('category')\n",
    "df['TelecomCompany'] = df['TelecomCompany'].astype('category')\n",
    "df['ReasonForChoosing'] = df['ReasonForChoosing'].astype('category')\n",
    "df['DurationWithCompany'] = df['DurationWithCompany'].astype('category')\n",
    "df['PlanType'] = df['PlanType'].astype('category')\n",
    "df['MonthlyCharges'] = df['MonthlyCharges'].astype('category')\n",
    "df['Churn'] = df['Churn'].astype('category')\n",
    "df['AgeGroup'] = df['AgeGroup'].astype('category')"
   ]
  },
  {
   "cell_type": "code",
   "execution_count": 11,
   "metadata": {},
   "outputs": [
    {
     "name": "stdout",
     "output_type": "stream",
     "text": [
      "<class 'pandas.core.frame.DataFrame'>\n",
      "RangeIndex: 1971 entries, 0 to 1970\n",
      "Data columns (total 17 columns):\n",
      " #   Column                       Non-Null Count  Dtype   \n",
      "---  ------                       --------------  -----   \n",
      " 0   AgeGroup                     1971 non-null   category\n",
      " 1   Gender                       1971 non-null   category\n",
      " 2   Education                    1971 non-null   category\n",
      " 3   EmploymentStatus             1971 non-null   category\n",
      " 4   TelecomCompany               1971 non-null   category\n",
      " 5   ReasonForChoosing            1971 non-null   category\n",
      " 6   DurationWithCompany          1971 non-null   category\n",
      " 7   PlanType                     1971 non-null   category\n",
      " 8   MonthlyCharges               1971 non-null   category\n",
      " 9   Churn                        1971 non-null   category\n",
      " 10  ChurnReason_NetworkCoverage  1971 non-null   bool    \n",
      " 11  ChurnReason_CustomerService  1971 non-null   bool    \n",
      " 12  ChurnReason_Pricing          1971 non-null   bool    \n",
      " 13  ChurnLikelihood              1971 non-null   int64   \n",
      " 14  MonthlyCharges_Numeric       1971 non-null   object  \n",
      " 15  Gender_NuUmeric              1971 non-null   int64   \n",
      " 16  AgeGroup_Numeric             1971 non-null   int64   \n",
      "dtypes: bool(3), category(10), int64(3), object(1)\n",
      "memory usage: 88.8+ KB\n"
     ]
    }
   ],
   "source": [
    "## Check the info again\n",
    "df.info()"
   ]
  },
  {
   "cell_type": "code",
   "execution_count": 12,
   "metadata": {},
   "outputs": [
    {
     "data": {
      "text/plain": [
       "33507"
      ]
     },
     "execution_count": 12,
     "metadata": {},
     "output_type": "execute_result"
    }
   ],
   "source": [
    "df.size"
   ]
  },
  {
   "cell_type": "code",
   "execution_count": 13,
   "metadata": {},
   "outputs": [
    {
     "data": {
      "text/plain": [
       "AgeGroup                       0\n",
       "Gender                         0\n",
       "Education                      0\n",
       "EmploymentStatus               0\n",
       "TelecomCompany                 0\n",
       "ReasonForChoosing              0\n",
       "DurationWithCompany            0\n",
       "PlanType                       0\n",
       "MonthlyCharges                 0\n",
       "Churn                          0\n",
       "ChurnReason_NetworkCoverage    0\n",
       "ChurnReason_CustomerService    0\n",
       "ChurnReason_Pricing            0\n",
       "ChurnLikelihood                0\n",
       "MonthlyCharges_Numeric         0\n",
       "Gender_NuUmeric                0\n",
       "AgeGroup_Numeric               0\n",
       "dtype: int64"
      ]
     },
     "execution_count": 13,
     "metadata": {},
     "output_type": "execute_result"
    }
   ],
   "source": [
    "## Check for NULL values\n",
    "df.isna().sum()"
   ]
  },
  {
   "cell_type": "code",
   "execution_count": 14,
   "metadata": {},
   "outputs": [
    {
     "data": {
      "text/html": [
       "<div>\n",
       "<style scoped>\n",
       "    .dataframe tbody tr th:only-of-type {\n",
       "        vertical-align: middle;\n",
       "    }\n",
       "\n",
       "    .dataframe tbody tr th {\n",
       "        vertical-align: top;\n",
       "    }\n",
       "\n",
       "    .dataframe thead th {\n",
       "        text-align: right;\n",
       "    }\n",
       "</style>\n",
       "<table border=\"1\" class=\"dataframe\">\n",
       "  <thead>\n",
       "    <tr style=\"text-align: right;\">\n",
       "      <th></th>\n",
       "      <th>AgeGroup</th>\n",
       "      <th>Gender</th>\n",
       "      <th>Education</th>\n",
       "      <th>EmploymentStatus</th>\n",
       "      <th>TelecomCompany</th>\n",
       "      <th>ReasonForChoosing</th>\n",
       "      <th>DurationWithCompany</th>\n",
       "      <th>PlanType</th>\n",
       "      <th>MonthlyCharges</th>\n",
       "      <th>Churn</th>\n",
       "      <th>ChurnReason_NetworkCoverage</th>\n",
       "      <th>ChurnReason_CustomerService</th>\n",
       "      <th>ChurnReason_Pricing</th>\n",
       "      <th>ChurnLikelihood</th>\n",
       "      <th>MonthlyCharges_Numeric</th>\n",
       "      <th>Gender_NuUmeric</th>\n",
       "      <th>AgeGroup_Numeric</th>\n",
       "    </tr>\n",
       "  </thead>\n",
       "  <tbody>\n",
       "    <tr>\n",
       "      <th>11</th>\n",
       "      <td>25-34</td>\n",
       "      <td>Transgender</td>\n",
       "      <td>Postgraduate</td>\n",
       "      <td>Self-employed</td>\n",
       "      <td>MTN</td>\n",
       "      <td>Pricing</td>\n",
       "      <td>3-4 years</td>\n",
       "      <td>Postpaid</td>\n",
       "      <td>More than GHS 400</td>\n",
       "      <td>Yes</td>\n",
       "      <td>True</td>\n",
       "      <td>True</td>\n",
       "      <td>False</td>\n",
       "      <td>5</td>\n",
       "      <td>7</td>\n",
       "      <td>3</td>\n",
       "      <td>2</td>\n",
       "    </tr>\n",
       "    <tr>\n",
       "      <th>13</th>\n",
       "      <td>25-34</td>\n",
       "      <td>Transgender</td>\n",
       "      <td>Postgraduate</td>\n",
       "      <td>Self-employed</td>\n",
       "      <td>MTN</td>\n",
       "      <td>Pricing</td>\n",
       "      <td>3-4 years</td>\n",
       "      <td>Postpaid</td>\n",
       "      <td>More than GHS 400</td>\n",
       "      <td>Yes</td>\n",
       "      <td>True</td>\n",
       "      <td>True</td>\n",
       "      <td>False</td>\n",
       "      <td>5</td>\n",
       "      <td>7</td>\n",
       "      <td>3</td>\n",
       "      <td>2</td>\n",
       "    </tr>\n",
       "    <tr>\n",
       "      <th>14</th>\n",
       "      <td>25-34</td>\n",
       "      <td>Transgender</td>\n",
       "      <td>Postgraduate</td>\n",
       "      <td>Self-employed</td>\n",
       "      <td>MTN</td>\n",
       "      <td>Pricing</td>\n",
       "      <td>3-4 years</td>\n",
       "      <td>Postpaid</td>\n",
       "      <td>More than GHS 400</td>\n",
       "      <td>Yes</td>\n",
       "      <td>True</td>\n",
       "      <td>True</td>\n",
       "      <td>False</td>\n",
       "      <td>5</td>\n",
       "      <td>7</td>\n",
       "      <td>3</td>\n",
       "      <td>2</td>\n",
       "    </tr>\n",
       "    <tr>\n",
       "      <th>15</th>\n",
       "      <td>25-34</td>\n",
       "      <td>Transgender</td>\n",
       "      <td>Postgraduate</td>\n",
       "      <td>Self-employed</td>\n",
       "      <td>MTN</td>\n",
       "      <td>Pricing</td>\n",
       "      <td>3-4 years</td>\n",
       "      <td>Postpaid</td>\n",
       "      <td>More than GHS 400</td>\n",
       "      <td>Yes</td>\n",
       "      <td>True</td>\n",
       "      <td>True</td>\n",
       "      <td>False</td>\n",
       "      <td>5</td>\n",
       "      <td>7</td>\n",
       "      <td>3</td>\n",
       "      <td>2</td>\n",
       "    </tr>\n",
       "    <tr>\n",
       "      <th>29</th>\n",
       "      <td>25-34</td>\n",
       "      <td>Transgender</td>\n",
       "      <td>Postgraduate</td>\n",
       "      <td>Self-employed</td>\n",
       "      <td>MTN</td>\n",
       "      <td>Pricing</td>\n",
       "      <td>3-4 years</td>\n",
       "      <td>Postpaid</td>\n",
       "      <td>More than GHS 400</td>\n",
       "      <td>Yes</td>\n",
       "      <td>True</td>\n",
       "      <td>True</td>\n",
       "      <td>False</td>\n",
       "      <td>5</td>\n",
       "      <td>7</td>\n",
       "      <td>3</td>\n",
       "      <td>2</td>\n",
       "    </tr>\n",
       "    <tr>\n",
       "      <th>...</th>\n",
       "      <td>...</td>\n",
       "      <td>...</td>\n",
       "      <td>...</td>\n",
       "      <td>...</td>\n",
       "      <td>...</td>\n",
       "      <td>...</td>\n",
       "      <td>...</td>\n",
       "      <td>...</td>\n",
       "      <td>...</td>\n",
       "      <td>...</td>\n",
       "      <td>...</td>\n",
       "      <td>...</td>\n",
       "      <td>...</td>\n",
       "      <td>...</td>\n",
       "      <td>...</td>\n",
       "      <td>...</td>\n",
       "      <td>...</td>\n",
       "    </tr>\n",
       "    <tr>\n",
       "      <th>1912</th>\n",
       "      <td>25-34</td>\n",
       "      <td>Transgender</td>\n",
       "      <td>Postgraduate</td>\n",
       "      <td>Self-employed</td>\n",
       "      <td>MTN</td>\n",
       "      <td>Pricing</td>\n",
       "      <td>3-4 years</td>\n",
       "      <td>Postpaid</td>\n",
       "      <td>More than GHS 400</td>\n",
       "      <td>Yes</td>\n",
       "      <td>True</td>\n",
       "      <td>True</td>\n",
       "      <td>False</td>\n",
       "      <td>5</td>\n",
       "      <td>7</td>\n",
       "      <td>3</td>\n",
       "      <td>2</td>\n",
       "    </tr>\n",
       "    <tr>\n",
       "      <th>1929</th>\n",
       "      <td>25-34</td>\n",
       "      <td>Transgender</td>\n",
       "      <td>Postgraduate</td>\n",
       "      <td>Self-employed</td>\n",
       "      <td>MTN</td>\n",
       "      <td>Pricing</td>\n",
       "      <td>3-4 years</td>\n",
       "      <td>Postpaid</td>\n",
       "      <td>More than GHS 400</td>\n",
       "      <td>Yes</td>\n",
       "      <td>True</td>\n",
       "      <td>True</td>\n",
       "      <td>False</td>\n",
       "      <td>5</td>\n",
       "      <td>7</td>\n",
       "      <td>3</td>\n",
       "      <td>2</td>\n",
       "    </tr>\n",
       "    <tr>\n",
       "      <th>1937</th>\n",
       "      <td>25-34</td>\n",
       "      <td>Transgender</td>\n",
       "      <td>Postgraduate</td>\n",
       "      <td>Self-employed</td>\n",
       "      <td>MTN</td>\n",
       "      <td>Pricing</td>\n",
       "      <td>3-4 years</td>\n",
       "      <td>Postpaid</td>\n",
       "      <td>More than GHS 400</td>\n",
       "      <td>Yes</td>\n",
       "      <td>True</td>\n",
       "      <td>True</td>\n",
       "      <td>False</td>\n",
       "      <td>5</td>\n",
       "      <td>7</td>\n",
       "      <td>3</td>\n",
       "      <td>2</td>\n",
       "    </tr>\n",
       "    <tr>\n",
       "      <th>1957</th>\n",
       "      <td>25-34</td>\n",
       "      <td>Transgender</td>\n",
       "      <td>Postgraduate</td>\n",
       "      <td>Self-employed</td>\n",
       "      <td>MTN</td>\n",
       "      <td>Pricing</td>\n",
       "      <td>3-4 years</td>\n",
       "      <td>Postpaid</td>\n",
       "      <td>More than GHS 400</td>\n",
       "      <td>Yes</td>\n",
       "      <td>True</td>\n",
       "      <td>True</td>\n",
       "      <td>False</td>\n",
       "      <td>5</td>\n",
       "      <td>7</td>\n",
       "      <td>3</td>\n",
       "      <td>2</td>\n",
       "    </tr>\n",
       "    <tr>\n",
       "      <th>1964</th>\n",
       "      <td>25-34</td>\n",
       "      <td>Transgender</td>\n",
       "      <td>Postgraduate</td>\n",
       "      <td>Self-employed</td>\n",
       "      <td>MTN</td>\n",
       "      <td>Pricing</td>\n",
       "      <td>3-4 years</td>\n",
       "      <td>Postpaid</td>\n",
       "      <td>More than GHS 400</td>\n",
       "      <td>Yes</td>\n",
       "      <td>True</td>\n",
       "      <td>True</td>\n",
       "      <td>False</td>\n",
       "      <td>5</td>\n",
       "      <td>7</td>\n",
       "      <td>3</td>\n",
       "      <td>2</td>\n",
       "    </tr>\n",
       "  </tbody>\n",
       "</table>\n",
       "<p>128 rows × 17 columns</p>\n",
       "</div>"
      ],
      "text/plain": [
       "     AgeGroup       Gender     Education EmploymentStatus TelecomCompany  \\\n",
       "11      25-34  Transgender  Postgraduate    Self-employed            MTN   \n",
       "13      25-34  Transgender  Postgraduate    Self-employed            MTN   \n",
       "14      25-34  Transgender  Postgraduate    Self-employed            MTN   \n",
       "15      25-34  Transgender  Postgraduate    Self-employed            MTN   \n",
       "29      25-34  Transgender  Postgraduate    Self-employed            MTN   \n",
       "...       ...          ...           ...              ...            ...   \n",
       "1912    25-34  Transgender  Postgraduate    Self-employed            MTN   \n",
       "1929    25-34  Transgender  Postgraduate    Self-employed            MTN   \n",
       "1937    25-34  Transgender  Postgraduate    Self-employed            MTN   \n",
       "1957    25-34  Transgender  Postgraduate    Self-employed            MTN   \n",
       "1964    25-34  Transgender  Postgraduate    Self-employed            MTN   \n",
       "\n",
       "     ReasonForChoosing DurationWithCompany  PlanType     MonthlyCharges Churn  \\\n",
       "11             Pricing           3-4 years  Postpaid  More than GHS 400   Yes   \n",
       "13             Pricing           3-4 years  Postpaid  More than GHS 400   Yes   \n",
       "14             Pricing           3-4 years  Postpaid  More than GHS 400   Yes   \n",
       "15             Pricing           3-4 years  Postpaid  More than GHS 400   Yes   \n",
       "29             Pricing           3-4 years  Postpaid  More than GHS 400   Yes   \n",
       "...                ...                 ...       ...                ...   ...   \n",
       "1912           Pricing           3-4 years  Postpaid  More than GHS 400   Yes   \n",
       "1929           Pricing           3-4 years  Postpaid  More than GHS 400   Yes   \n",
       "1937           Pricing           3-4 years  Postpaid  More than GHS 400   Yes   \n",
       "1957           Pricing           3-4 years  Postpaid  More than GHS 400   Yes   \n",
       "1964           Pricing           3-4 years  Postpaid  More than GHS 400   Yes   \n",
       "\n",
       "      ChurnReason_NetworkCoverage  ChurnReason_CustomerService  \\\n",
       "11                           True                         True   \n",
       "13                           True                         True   \n",
       "14                           True                         True   \n",
       "15                           True                         True   \n",
       "29                           True                         True   \n",
       "...                           ...                          ...   \n",
       "1912                         True                         True   \n",
       "1929                         True                         True   \n",
       "1937                         True                         True   \n",
       "1957                         True                         True   \n",
       "1964                         True                         True   \n",
       "\n",
       "      ChurnReason_Pricing  ChurnLikelihood MonthlyCharges_Numeric  \\\n",
       "11                  False                5                      7   \n",
       "13                  False                5                      7   \n",
       "14                  False                5                      7   \n",
       "15                  False                5                      7   \n",
       "29                  False                5                      7   \n",
       "...                   ...              ...                    ...   \n",
       "1912                False                5                      7   \n",
       "1929                False                5                      7   \n",
       "1937                False                5                      7   \n",
       "1957                False                5                      7   \n",
       "1964                False                5                      7   \n",
       "\n",
       "      Gender_NuUmeric  AgeGroup_Numeric  \n",
       "11                  3                 2  \n",
       "13                  3                 2  \n",
       "14                  3                 2  \n",
       "15                  3                 2  \n",
       "29                  3                 2  \n",
       "...               ...               ...  \n",
       "1912                3                 2  \n",
       "1929                3                 2  \n",
       "1937                3                 2  \n",
       "1957                3                 2  \n",
       "1964                3                 2  \n",
       "\n",
       "[128 rows x 17 columns]"
      ]
     },
     "execution_count": 14,
     "metadata": {},
     "output_type": "execute_result"
    }
   ],
   "source": [
    "## Check for duplicates\n",
    "duplicates = df[df.duplicated()]\n",
    "duplicates"
   ]
  },
  {
   "cell_type": "code",
   "execution_count": 15,
   "metadata": {},
   "outputs": [],
   "source": [
    "## Remove the duplicates\n",
    "df.drop_duplicates(inplace = True)"
   ]
  },
  {
   "cell_type": "code",
   "execution_count": 16,
   "metadata": {},
   "outputs": [
    {
     "data": {
      "text/plain": [
       "31331"
      ]
     },
     "execution_count": 16,
     "metadata": {},
     "output_type": "execute_result"
    }
   ],
   "source": [
    "df.size"
   ]
  },
  {
   "cell_type": "code",
   "execution_count": 17,
   "metadata": {},
   "outputs": [
    {
     "data": {
      "text/plain": [
       "(1843, 17)"
      ]
     },
     "execution_count": 17,
     "metadata": {},
     "output_type": "execute_result"
    }
   ],
   "source": [
    "df.shape"
   ]
  },
  {
   "cell_type": "code",
   "execution_count": 18,
   "metadata": {},
   "outputs": [
    {
     "data": {
      "text/plain": [
       "0       Transgender\n",
       "1              Male\n",
       "2            Female\n",
       "3       Transgender\n",
       "4       Transgender\n",
       "           ...     \n",
       "1966         Female\n",
       "1967           Male\n",
       "1968         Female\n",
       "1969         Female\n",
       "1970         Female\n",
       "Name: Gender, Length: 1843, dtype: category\n",
       "Categories (4, object): ['Female', 'Male', 'Prefer not to say', 'Transgender']"
      ]
     },
     "execution_count": 18,
     "metadata": {},
     "output_type": "execute_result"
    }
   ],
   "source": [
    "df['Gender']"
   ]
  },
  {
   "cell_type": "code",
   "execution_count": 19,
   "metadata": {},
   "outputs": [
    {
     "data": {
      "text/plain": [
       "0       AirtelTigo\n",
       "1         Vodafone\n",
       "2              MTN\n",
       "3              MTN\n",
       "4              Glo\n",
       "           ...    \n",
       "1966           Glo\n",
       "1967           MTN\n",
       "1968      Vodafone\n",
       "1969           MTN\n",
       "1970    AirtelTigo\n",
       "Name: TelecomCompany, Length: 1843, dtype: category\n",
       "Categories (4, object): ['AirtelTigo', 'Glo', 'MTN', 'Vodafone']"
      ]
     },
     "execution_count": 19,
     "metadata": {},
     "output_type": "execute_result"
    }
   ],
   "source": [
    "df['TelecomCompany']"
   ]
  },
  {
   "cell_type": "code",
   "execution_count": 20,
   "metadata": {},
   "outputs": [
    {
     "data": {
      "text/plain": [
       "0             GHS 101-200\n",
       "1             GHS 301-400\n",
       "2             GHS 101-200\n",
       "3       More than GHS 400\n",
       "4       More than GHS 400\n",
       "              ...        \n",
       "1966            GHS 20-50\n",
       "1967          GHS 301-400\n",
       "1968          GHS 301-400\n",
       "1969    More than GHS 200\n",
       "1970          GHS 201-300\n",
       "Name: MonthlyCharges, Length: 1843, dtype: category\n",
       "Categories (8, object): ['GHS 101-200', 'GHS 20-50', 'GHS 201-300', 'GHS 301-400', 'GHS 51-100', 'Less than GHS 20', 'More than GHS 200', 'More than GHS 400']"
      ]
     },
     "execution_count": 20,
     "metadata": {},
     "output_type": "execute_result"
    }
   ],
   "source": [
    "df['MonthlyCharges']"
   ]
  },
  {
   "cell_type": "code",
   "execution_count": 21,
   "metadata": {},
   "outputs": [
    {
     "data": {
      "text/plain": [
       "0        No\n",
       "1       Yes\n",
       "2       Yes\n",
       "3       Yes\n",
       "4        No\n",
       "       ... \n",
       "1966    Yes\n",
       "1967    Yes\n",
       "1968     No\n",
       "1969    Yes\n",
       "1970    Yes\n",
       "Name: Churn, Length: 1843, dtype: category\n",
       "Categories (2, object): ['No', 'Yes']"
      ]
     },
     "execution_count": 21,
     "metadata": {},
     "output_type": "execute_result"
    }
   ],
   "source": [
    "df['Churn']"
   ]
  },
  {
   "cell_type": "code",
   "execution_count": 22,
   "metadata": {},
   "outputs": [
    {
     "data": {
      "text/html": [
       "<div>\n",
       "<style scoped>\n",
       "    .dataframe tbody tr th:only-of-type {\n",
       "        vertical-align: middle;\n",
       "    }\n",
       "\n",
       "    .dataframe tbody tr th {\n",
       "        vertical-align: top;\n",
       "    }\n",
       "\n",
       "    .dataframe thead th {\n",
       "        text-align: right;\n",
       "    }\n",
       "</style>\n",
       "<table border=\"1\" class=\"dataframe\">\n",
       "  <thead>\n",
       "    <tr style=\"text-align: right;\">\n",
       "      <th></th>\n",
       "      <th>AgeGroup</th>\n",
       "      <th>Gender</th>\n",
       "      <th>Education</th>\n",
       "      <th>EmploymentStatus</th>\n",
       "      <th>TelecomCompany</th>\n",
       "      <th>ReasonForChoosing</th>\n",
       "      <th>DurationWithCompany</th>\n",
       "      <th>PlanType</th>\n",
       "      <th>MonthlyCharges</th>\n",
       "      <th>Churn</th>\n",
       "      <th>ChurnReason_NetworkCoverage</th>\n",
       "      <th>ChurnReason_CustomerService</th>\n",
       "      <th>ChurnReason_Pricing</th>\n",
       "      <th>ChurnLikelihood</th>\n",
       "      <th>MonthlyCharges_Numeric</th>\n",
       "      <th>Gender_Numeric</th>\n",
       "      <th>AgeGroup_Numeric</th>\n",
       "    </tr>\n",
       "  </thead>\n",
       "  <tbody>\n",
       "    <tr>\n",
       "      <th>0</th>\n",
       "      <td>25-34</td>\n",
       "      <td>Transgender</td>\n",
       "      <td>Primary School</td>\n",
       "      <td>Retired</td>\n",
       "      <td>AirtelTigo</td>\n",
       "      <td>Coverage</td>\n",
       "      <td>1-2 years</td>\n",
       "      <td>Both</td>\n",
       "      <td>GHS 101-200</td>\n",
       "      <td>No</td>\n",
       "      <td>False</td>\n",
       "      <td>False</td>\n",
       "      <td>False</td>\n",
       "      <td>2</td>\n",
       "      <td>4</td>\n",
       "      <td>3</td>\n",
       "      <td>2</td>\n",
       "    </tr>\n",
       "    <tr>\n",
       "      <th>1</th>\n",
       "      <td>55-64</td>\n",
       "      <td>Male</td>\n",
       "      <td>High school graduate</td>\n",
       "      <td>Employed part-time</td>\n",
       "      <td>Vodafone</td>\n",
       "      <td>Customer Service</td>\n",
       "      <td>6-12 months</td>\n",
       "      <td>Postpaid</td>\n",
       "      <td>GHS 301-400</td>\n",
       "      <td>Yes</td>\n",
       "      <td>True</td>\n",
       "      <td>True</td>\n",
       "      <td>True</td>\n",
       "      <td>1</td>\n",
       "      <td></td>\n",
       "      <td>1</td>\n",
       "      <td>5</td>\n",
       "    </tr>\n",
       "    <tr>\n",
       "      <th>2</th>\n",
       "      <td>45-54</td>\n",
       "      <td>Female</td>\n",
       "      <td>High school graduate</td>\n",
       "      <td>Employed full-time</td>\n",
       "      <td>MTN</td>\n",
       "      <td>Coverage</td>\n",
       "      <td>3-4 years</td>\n",
       "      <td>Both</td>\n",
       "      <td>GHS 101-200</td>\n",
       "      <td>Yes</td>\n",
       "      <td>False</td>\n",
       "      <td>False</td>\n",
       "      <td>True</td>\n",
       "      <td>2</td>\n",
       "      <td>4</td>\n",
       "      <td>2</td>\n",
       "      <td>4</td>\n",
       "    </tr>\n",
       "    <tr>\n",
       "      <th>3</th>\n",
       "      <td>25-34</td>\n",
       "      <td>Transgender</td>\n",
       "      <td>Postgraduate</td>\n",
       "      <td>Self-employed</td>\n",
       "      <td>MTN</td>\n",
       "      <td>Pricing</td>\n",
       "      <td>3-4 years</td>\n",
       "      <td>Postpaid</td>\n",
       "      <td>More than GHS 400</td>\n",
       "      <td>Yes</td>\n",
       "      <td>True</td>\n",
       "      <td>True</td>\n",
       "      <td>False</td>\n",
       "      <td>5</td>\n",
       "      <td>7</td>\n",
       "      <td>3</td>\n",
       "      <td>2</td>\n",
       "    </tr>\n",
       "    <tr>\n",
       "      <th>4</th>\n",
       "      <td>25-34</td>\n",
       "      <td>Transgender</td>\n",
       "      <td>Primary School</td>\n",
       "      <td>Employed full-time</td>\n",
       "      <td>Glo</td>\n",
       "      <td>Customer Service</td>\n",
       "      <td>Less than 6 months</td>\n",
       "      <td>Both</td>\n",
       "      <td>More than GHS 400</td>\n",
       "      <td>No</td>\n",
       "      <td>False</td>\n",
       "      <td>True</td>\n",
       "      <td>False</td>\n",
       "      <td>1</td>\n",
       "      <td>7</td>\n",
       "      <td>3</td>\n",
       "      <td>2</td>\n",
       "    </tr>\n",
       "  </tbody>\n",
       "</table>\n",
       "</div>"
      ],
      "text/plain": [
       "  AgeGroup       Gender             Education    EmploymentStatus  \\\n",
       "0    25-34  Transgender        Primary School             Retired   \n",
       "1    55-64         Male  High school graduate  Employed part-time   \n",
       "2    45-54       Female  High school graduate  Employed full-time   \n",
       "3    25-34  Transgender          Postgraduate       Self-employed   \n",
       "4    25-34  Transgender        Primary School  Employed full-time   \n",
       "\n",
       "  TelecomCompany ReasonForChoosing DurationWithCompany  PlanType  \\\n",
       "0     AirtelTigo          Coverage           1-2 years      Both   \n",
       "1       Vodafone  Customer Service         6-12 months  Postpaid   \n",
       "2            MTN          Coverage           3-4 years      Both   \n",
       "3            MTN           Pricing           3-4 years  Postpaid   \n",
       "4            Glo  Customer Service  Less than 6 months      Both   \n",
       "\n",
       "      MonthlyCharges Churn  ChurnReason_NetworkCoverage  \\\n",
       "0        GHS 101-200    No                        False   \n",
       "1        GHS 301-400   Yes                         True   \n",
       "2        GHS 101-200   Yes                        False   \n",
       "3  More than GHS 400   Yes                         True   \n",
       "4  More than GHS 400    No                        False   \n",
       "\n",
       "   ChurnReason_CustomerService  ChurnReason_Pricing  ChurnLikelihood  \\\n",
       "0                        False                False                2   \n",
       "1                         True                 True                1   \n",
       "2                        False                 True                2   \n",
       "3                         True                False                5   \n",
       "4                         True                False                1   \n",
       "\n",
       "  MonthlyCharges_Numeric  Gender_Numeric  AgeGroup_Numeric  \n",
       "0                      4               3                 2  \n",
       "1                                      1                 5  \n",
       "2                      4               2                 4  \n",
       "3                      7               3                 2  \n",
       "4                      7               3                 2  "
      ]
     },
     "execution_count": 22,
     "metadata": {},
     "output_type": "execute_result"
    }
   ],
   "source": [
    "df.rename(columns={'Gender_NuUmeric': 'Gender_Numeric'}, inplace=True)\n",
    "df.head()"
   ]
  },
  {
   "cell_type": "code",
   "execution_count": 23,
   "metadata": {},
   "outputs": [
    {
     "data": {
      "text/plain": [
       "Gender             ChurnLikelihood\n",
       "Female             1                   85\n",
       "                   2                  105\n",
       "                   3                   87\n",
       "                   4                   74\n",
       "                   5                  102\n",
       "Male               1                   95\n",
       "                   2                   96\n",
       "                   3                  106\n",
       "                   4                  100\n",
       "                   5                   98\n",
       "Prefer not to say  1                   83\n",
       "                   2                   96\n",
       "                   3                   98\n",
       "                   4                  121\n",
       "                   5                   81\n",
       "Transgender        1                   85\n",
       "                   2                   89\n",
       "                   3                   63\n",
       "                   4                   93\n",
       "                   5                   86\n",
       "dtype: int64"
      ]
     },
     "execution_count": 23,
     "metadata": {},
     "output_type": "execute_result"
    }
   ],
   "source": [
    "df.groupby(['Gender', 'ChurnLikelihood']).size()"
   ]
  },
  {
   "cell_type": "code",
   "execution_count": 24,
   "metadata": {},
   "outputs": [
    {
     "name": "stdout",
     "output_type": "stream",
     "text": [
      "<class 'pandas.core.frame.DataFrame'>\n",
      "Index: 1843 entries, 0 to 1970\n",
      "Data columns (total 17 columns):\n",
      " #   Column                       Non-Null Count  Dtype   \n",
      "---  ------                       --------------  -----   \n",
      " 0   AgeGroup                     1843 non-null   category\n",
      " 1   Gender                       1843 non-null   category\n",
      " 2   Education                    1843 non-null   category\n",
      " 3   EmploymentStatus             1843 non-null   category\n",
      " 4   TelecomCompany               1843 non-null   category\n",
      " 5   ReasonForChoosing            1843 non-null   category\n",
      " 6   DurationWithCompany          1843 non-null   category\n",
      " 7   PlanType                     1843 non-null   category\n",
      " 8   MonthlyCharges               1843 non-null   category\n",
      " 9   Churn                        1843 non-null   category\n",
      " 10  ChurnReason_NetworkCoverage  1843 non-null   bool    \n",
      " 11  ChurnReason_CustomerService  1843 non-null   bool    \n",
      " 12  ChurnReason_Pricing          1843 non-null   bool    \n",
      " 13  ChurnLikelihood              1843 non-null   int64   \n",
      " 14  MonthlyCharges_Numeric       1843 non-null   object  \n",
      " 15  Gender_Numeric               1843 non-null   int64   \n",
      " 16  AgeGroup_Numeric             1843 non-null   int64   \n",
      "dtypes: bool(3), category(10), int64(3), object(1)\n",
      "memory usage: 97.4+ KB\n"
     ]
    }
   ],
   "source": [
    "df.info()"
   ]
  },
  {
   "cell_type": "code",
   "execution_count": 25,
   "metadata": {},
   "outputs": [
    {
     "data": {
      "text/plain": [
       "0        No\n",
       "1       Yes\n",
       "2       Yes\n",
       "3       Yes\n",
       "4        No\n",
       "       ... \n",
       "1966    Yes\n",
       "1967    Yes\n",
       "1968     No\n",
       "1969    Yes\n",
       "1970    Yes\n",
       "Name: Churn, Length: 1843, dtype: category\n",
       "Categories (2, object): ['No', 'Yes']"
      ]
     },
     "execution_count": 25,
     "metadata": {},
     "output_type": "execute_result"
    }
   ],
   "source": [
    "df['Churn']"
   ]
  },
  {
   "cell_type": "code",
   "execution_count": 26,
   "metadata": {},
   "outputs": [],
   "source": [
    "df['Churn'] = df['Churn'].map({'Yes':1, 'No':0})"
   ]
  },
  {
   "cell_type": "code",
   "execution_count": 27,
   "metadata": {},
   "outputs": [
    {
     "data": {
      "text/plain": [
       "0       0\n",
       "1       1\n",
       "2       1\n",
       "3       1\n",
       "4       0\n",
       "       ..\n",
       "1966    1\n",
       "1967    1\n",
       "1968    0\n",
       "1969    1\n",
       "1970    1\n",
       "Name: Churn, Length: 1843, dtype: category\n",
       "Categories (2, int64): [0, 1]"
      ]
     },
     "execution_count": 27,
     "metadata": {},
     "output_type": "execute_result"
    }
   ],
   "source": [
    "df['Churn']"
   ]
  },
  {
   "cell_type": "code",
   "execution_count": 28,
   "metadata": {},
   "outputs": [],
   "source": [
    "df['Churn'] = df['Churn'].astype('int64')"
   ]
  },
  {
   "cell_type": "code",
   "execution_count": 29,
   "metadata": {},
   "outputs": [
    {
     "name": "stdout",
     "output_type": "stream",
     "text": [
      "<class 'pandas.core.frame.DataFrame'>\n",
      "Index: 1843 entries, 0 to 1970\n",
      "Data columns (total 17 columns):\n",
      " #   Column                       Non-Null Count  Dtype   \n",
      "---  ------                       --------------  -----   \n",
      " 0   AgeGroup                     1843 non-null   category\n",
      " 1   Gender                       1843 non-null   category\n",
      " 2   Education                    1843 non-null   category\n",
      " 3   EmploymentStatus             1843 non-null   category\n",
      " 4   TelecomCompany               1843 non-null   category\n",
      " 5   ReasonForChoosing            1843 non-null   category\n",
      " 6   DurationWithCompany          1843 non-null   category\n",
      " 7   PlanType                     1843 non-null   category\n",
      " 8   MonthlyCharges               1843 non-null   category\n",
      " 9   Churn                        1843 non-null   int64   \n",
      " 10  ChurnReason_NetworkCoverage  1843 non-null   bool    \n",
      " 11  ChurnReason_CustomerService  1843 non-null   bool    \n",
      " 12  ChurnReason_Pricing          1843 non-null   bool    \n",
      " 13  ChurnLikelihood              1843 non-null   int64   \n",
      " 14  MonthlyCharges_Numeric       1843 non-null   object  \n",
      " 15  Gender_Numeric               1843 non-null   int64   \n",
      " 16  AgeGroup_Numeric             1843 non-null   int64   \n",
      "dtypes: bool(3), category(9), int64(4), object(1)\n",
      "memory usage: 109.9+ KB\n"
     ]
    }
   ],
   "source": [
    "df.info()"
   ]
  },
  {
   "cell_type": "code",
   "execution_count": 30,
   "metadata": {},
   "outputs": [
    {
     "data": {
      "text/html": [
       "<div>\n",
       "<style scoped>\n",
       "    .dataframe tbody tr th:only-of-type {\n",
       "        vertical-align: middle;\n",
       "    }\n",
       "\n",
       "    .dataframe tbody tr th {\n",
       "        vertical-align: top;\n",
       "    }\n",
       "\n",
       "    .dataframe thead th {\n",
       "        text-align: right;\n",
       "    }\n",
       "</style>\n",
       "<table border=\"1\" class=\"dataframe\">\n",
       "  <thead>\n",
       "    <tr style=\"text-align: right;\">\n",
       "      <th></th>\n",
       "      <th>MonthlyCharges_Numeric</th>\n",
       "      <th>MonthlyCharges</th>\n",
       "    </tr>\n",
       "  </thead>\n",
       "  <tbody>\n",
       "    <tr>\n",
       "      <th>0</th>\n",
       "      <td>4</td>\n",
       "      <td>GHS 101-200</td>\n",
       "    </tr>\n",
       "    <tr>\n",
       "      <th>1</th>\n",
       "      <td></td>\n",
       "      <td>GHS 301-400</td>\n",
       "    </tr>\n",
       "    <tr>\n",
       "      <th>2</th>\n",
       "      <td>4</td>\n",
       "      <td>GHS 101-200</td>\n",
       "    </tr>\n",
       "    <tr>\n",
       "      <th>3</th>\n",
       "      <td>7</td>\n",
       "      <td>More than GHS 400</td>\n",
       "    </tr>\n",
       "    <tr>\n",
       "      <th>4</th>\n",
       "      <td>7</td>\n",
       "      <td>More than GHS 400</td>\n",
       "    </tr>\n",
       "    <tr>\n",
       "      <th>...</th>\n",
       "      <td>...</td>\n",
       "      <td>...</td>\n",
       "    </tr>\n",
       "    <tr>\n",
       "      <th>1966</th>\n",
       "      <td>2</td>\n",
       "      <td>GHS 20-50</td>\n",
       "    </tr>\n",
       "    <tr>\n",
       "      <th>1967</th>\n",
       "      <td></td>\n",
       "      <td>GHS 301-400</td>\n",
       "    </tr>\n",
       "    <tr>\n",
       "      <th>1968</th>\n",
       "      <td></td>\n",
       "      <td>GHS 301-400</td>\n",
       "    </tr>\n",
       "    <tr>\n",
       "      <th>1969</th>\n",
       "      <td>6</td>\n",
       "      <td>More than GHS 200</td>\n",
       "    </tr>\n",
       "    <tr>\n",
       "      <th>1970</th>\n",
       "      <td>5</td>\n",
       "      <td>GHS 201-300</td>\n",
       "    </tr>\n",
       "  </tbody>\n",
       "</table>\n",
       "<p>1843 rows × 2 columns</p>\n",
       "</div>"
      ],
      "text/plain": [
       "     MonthlyCharges_Numeric     MonthlyCharges\n",
       "0                         4        GHS 101-200\n",
       "1                                  GHS 301-400\n",
       "2                         4        GHS 101-200\n",
       "3                         7  More than GHS 400\n",
       "4                         7  More than GHS 400\n",
       "...                     ...                ...\n",
       "1966                      2          GHS 20-50\n",
       "1967                               GHS 301-400\n",
       "1968                               GHS 301-400\n",
       "1969                      6  More than GHS 200\n",
       "1970                      5        GHS 201-300\n",
       "\n",
       "[1843 rows x 2 columns]"
      ]
     },
     "execution_count": 30,
     "metadata": {},
     "output_type": "execute_result"
    }
   ],
   "source": [
    "df[['MonthlyCharges_Numeric', 'MonthlyCharges']]"
   ]
  },
  {
   "cell_type": "code",
   "execution_count": 31,
   "metadata": {},
   "outputs": [
    {
     "data": {
      "text/plain": [
       "0"
      ]
     },
     "execution_count": 31,
     "metadata": {},
     "output_type": "execute_result"
    }
   ],
   "source": [
    "df['MonthlyCharges_Numeric'].isna().sum()"
   ]
  },
  {
   "cell_type": "code",
   "execution_count": null,
   "metadata": {},
   "outputs": [],
   "source": []
  },
  {
   "cell_type": "code",
   "execution_count": 32,
   "metadata": {},
   "outputs": [
    {
     "data": {
      "text/plain": [
       "0       4\n",
       "1        \n",
       "2       4\n",
       "3       7\n",
       "4       7\n",
       "       ..\n",
       "1966    2\n",
       "1967     \n",
       "1968     \n",
       "1969    6\n",
       "1970    5\n",
       "Name: MonthlyCharges_Numeric, Length: 1843, dtype: object"
      ]
     },
     "execution_count": 32,
     "metadata": {},
     "output_type": "execute_result"
    }
   ],
   "source": [
    "df['MonthlyCharges_Numeric']"
   ]
  },
  {
   "cell_type": "code",
   "execution_count": 33,
   "metadata": {},
   "outputs": [],
   "source": [
    "df['MonthlyCharges_Numeric'].replace(' ', 0, inplace = True)\n",
    "df['MonthlyCharges_Numeric'].replace('1', 1, inplace = True)\n",
    "df['MonthlyCharges_Numeric'].replace('2', 2, inplace = True)\n",
    "df['MonthlyCharges_Numeric'].replace('3', 3, inplace = True)\n",
    "df['MonthlyCharges_Numeric'].replace('4', 4, inplace = True)\n",
    "df['MonthlyCharges_Numeric'].replace('5', 5, inplace = True)\n",
    "df['MonthlyCharges_Numeric'].replace('6', 6, inplace = True)\n",
    "df['MonthlyCharges_Numeric'].replace('7', 7, inplace = True)"
   ]
  },
  {
   "cell_type": "code",
   "execution_count": 34,
   "metadata": {},
   "outputs": [],
   "source": [
    "df['MonthlyCharges_Numeric'] = df['MonthlyCharges_Numeric'].astype('int64')"
   ]
  },
  {
   "cell_type": "code",
   "execution_count": 35,
   "metadata": {},
   "outputs": [
    {
     "name": "stdout",
     "output_type": "stream",
     "text": [
      "<class 'pandas.core.frame.DataFrame'>\n",
      "Index: 1843 entries, 0 to 1970\n",
      "Data columns (total 17 columns):\n",
      " #   Column                       Non-Null Count  Dtype   \n",
      "---  ------                       --------------  -----   \n",
      " 0   AgeGroup                     1843 non-null   category\n",
      " 1   Gender                       1843 non-null   category\n",
      " 2   Education                    1843 non-null   category\n",
      " 3   EmploymentStatus             1843 non-null   category\n",
      " 4   TelecomCompany               1843 non-null   category\n",
      " 5   ReasonForChoosing            1843 non-null   category\n",
      " 6   DurationWithCompany          1843 non-null   category\n",
      " 7   PlanType                     1843 non-null   category\n",
      " 8   MonthlyCharges               1843 non-null   category\n",
      " 9   Churn                        1843 non-null   int64   \n",
      " 10  ChurnReason_NetworkCoverage  1843 non-null   bool    \n",
      " 11  ChurnReason_CustomerService  1843 non-null   bool    \n",
      " 12  ChurnReason_Pricing          1843 non-null   bool    \n",
      " 13  ChurnLikelihood              1843 non-null   int64   \n",
      " 14  MonthlyCharges_Numeric       1843 non-null   int64   \n",
      " 15  Gender_Numeric               1843 non-null   int64   \n",
      " 16  AgeGroup_Numeric             1843 non-null   int64   \n",
      "dtypes: bool(3), category(9), int64(5)\n",
      "memory usage: 109.9 KB\n"
     ]
    }
   ],
   "source": [
    "df.info()"
   ]
  },
  {
   "cell_type": "code",
   "execution_count": 36,
   "metadata": {},
   "outputs": [
    {
     "data": {
      "text/plain": [
       "0             Primary School\n",
       "1       High school graduate\n",
       "2       High school graduate\n",
       "3               Postgraduate\n",
       "4             Primary School\n",
       "                ...         \n",
       "1966            Postgraduate\n",
       "1967    High school graduate\n",
       "1968          Primary School\n",
       "1969            Postgraduate\n",
       "1970          Primary School\n",
       "Name: Education, Length: 1843, dtype: category\n",
       "Categories (6, object): ['High school graduate', 'No Education', 'Postgraduate', 'Prefer not to say', 'Primary School', 'Undergraduate']"
      ]
     },
     "execution_count": 36,
     "metadata": {},
     "output_type": "execute_result"
    }
   ],
   "source": [
    "df['Education']"
   ]
  },
  {
   "cell_type": "code",
   "execution_count": 37,
   "metadata": {
    "scrolled": true
   },
   "outputs": [
    {
     "data": {
      "text/plain": [
       "0             GHS 101-200\n",
       "1             GHS 301-400\n",
       "2             GHS 101-200\n",
       "3       More than GHS 400\n",
       "4       More than GHS 400\n",
       "              ...        \n",
       "1966            GHS 20-50\n",
       "1967          GHS 301-400\n",
       "1968          GHS 301-400\n",
       "1969    More than GHS 200\n",
       "1970          GHS 201-300\n",
       "Name: MonthlyCharges, Length: 1843, dtype: category\n",
       "Categories (8, object): ['GHS 101-200', 'GHS 20-50', 'GHS 201-300', 'GHS 301-400', 'GHS 51-100', 'Less than GHS 20', 'More than GHS 200', 'More than GHS 400']"
      ]
     },
     "execution_count": 37,
     "metadata": {},
     "output_type": "execute_result"
    }
   ],
   "source": [
    "df['MonthlyCharges']"
   ]
  },
  {
   "cell_type": "code",
   "execution_count": 38,
   "metadata": {},
   "outputs": [
    {
     "data": {
      "text/plain": [
       "'More than GHS 400'"
      ]
     },
     "execution_count": 38,
     "metadata": {},
     "output_type": "execute_result"
    }
   ],
   "source": [
    "max(df['MonthlyCharges'])"
   ]
  },
  {
   "cell_type": "code",
   "execution_count": 39,
   "metadata": {},
   "outputs": [],
   "source": [
    "def extract_numeric(value):\n",
    "    # Remove \"GHS\" and any extra spaces\n",
    "    value = value.replace('GHS', '').strip()\n",
    "\n",
    "    # Handle the case of a range (e.g., '101-200')\n",
    "    if '-' in value:\n",
    "        lower, upper = value.split('-')\n",
    "        return (int(lower) + int(upper)) / 2  # Taking the average of the range\n",
    "    \n",
    "    # Handle the case for \"More than\" or \"Less than\" values\n",
    "    elif 'More than' in value:\n",
    "        return 400  # Assuming the upper bound is 400 for \"More than GHS 400\"\n",
    "    elif 'Less than' in value:\n",
    "        return 20  # Assuming the lower bound is 20 for \"Less than 20\"\n",
    "    \n",
    "    # If it's a single value (e.g., '300')\n",
    "    return float(value)\n",
    "\n",
    "# Apply the function to the 'MonthlyCharges' column\n",
    "df['Monthly_Charges'] = df['MonthlyCharges'].apply(extract_numeric)\n"
   ]
  },
  {
   "cell_type": "code",
   "execution_count": 40,
   "metadata": {},
   "outputs": [
    {
     "data": {
      "text/plain": [
       "0       150.5\n",
       "1       350.5\n",
       "2       150.5\n",
       "3       400.0\n",
       "4       400.0\n",
       "        ...  \n",
       "1966     35.0\n",
       "1967    350.5\n",
       "1968    350.5\n",
       "1969    400.0\n",
       "1970    250.5\n",
       "Name: Monthly_Charges, Length: 1843, dtype: float64"
      ]
     },
     "execution_count": 40,
     "metadata": {},
     "output_type": "execute_result"
    }
   ],
   "source": [
    "df['Monthly_Charges']"
   ]
  },
  {
   "cell_type": "code",
   "execution_count": 41,
   "metadata": {},
   "outputs": [
    {
     "data": {
      "text/html": [
       "<div>\n",
       "<style scoped>\n",
       "    .dataframe tbody tr th:only-of-type {\n",
       "        vertical-align: middle;\n",
       "    }\n",
       "\n",
       "    .dataframe tbody tr th {\n",
       "        vertical-align: top;\n",
       "    }\n",
       "\n",
       "    .dataframe thead th {\n",
       "        text-align: right;\n",
       "    }\n",
       "</style>\n",
       "<table border=\"1\" class=\"dataframe\">\n",
       "  <thead>\n",
       "    <tr style=\"text-align: right;\">\n",
       "      <th></th>\n",
       "      <th>AgeGroup</th>\n",
       "      <th>Gender</th>\n",
       "      <th>Education</th>\n",
       "      <th>EmploymentStatus</th>\n",
       "      <th>TelecomCompany</th>\n",
       "      <th>ReasonForChoosing</th>\n",
       "      <th>DurationWithCompany</th>\n",
       "      <th>PlanType</th>\n",
       "      <th>MonthlyCharges</th>\n",
       "      <th>Churn</th>\n",
       "      <th>ChurnReason_NetworkCoverage</th>\n",
       "      <th>ChurnReason_CustomerService</th>\n",
       "      <th>ChurnReason_Pricing</th>\n",
       "      <th>ChurnLikelihood</th>\n",
       "      <th>MonthlyCharges_Numeric</th>\n",
       "      <th>Gender_Numeric</th>\n",
       "      <th>AgeGroup_Numeric</th>\n",
       "      <th>Monthly_Charges</th>\n",
       "    </tr>\n",
       "  </thead>\n",
       "  <tbody>\n",
       "    <tr>\n",
       "      <th>0</th>\n",
       "      <td>25-34</td>\n",
       "      <td>Transgender</td>\n",
       "      <td>Primary School</td>\n",
       "      <td>Retired</td>\n",
       "      <td>AirtelTigo</td>\n",
       "      <td>Coverage</td>\n",
       "      <td>1-2 years</td>\n",
       "      <td>Both</td>\n",
       "      <td>GHS 101-200</td>\n",
       "      <td>0</td>\n",
       "      <td>False</td>\n",
       "      <td>False</td>\n",
       "      <td>False</td>\n",
       "      <td>2</td>\n",
       "      <td>4</td>\n",
       "      <td>3</td>\n",
       "      <td>2</td>\n",
       "      <td>150.5</td>\n",
       "    </tr>\n",
       "    <tr>\n",
       "      <th>1</th>\n",
       "      <td>55-64</td>\n",
       "      <td>Male</td>\n",
       "      <td>High school graduate</td>\n",
       "      <td>Employed part-time</td>\n",
       "      <td>Vodafone</td>\n",
       "      <td>Customer Service</td>\n",
       "      <td>6-12 months</td>\n",
       "      <td>Postpaid</td>\n",
       "      <td>GHS 301-400</td>\n",
       "      <td>1</td>\n",
       "      <td>True</td>\n",
       "      <td>True</td>\n",
       "      <td>True</td>\n",
       "      <td>1</td>\n",
       "      <td>0</td>\n",
       "      <td>1</td>\n",
       "      <td>5</td>\n",
       "      <td>350.5</td>\n",
       "    </tr>\n",
       "    <tr>\n",
       "      <th>2</th>\n",
       "      <td>45-54</td>\n",
       "      <td>Female</td>\n",
       "      <td>High school graduate</td>\n",
       "      <td>Employed full-time</td>\n",
       "      <td>MTN</td>\n",
       "      <td>Coverage</td>\n",
       "      <td>3-4 years</td>\n",
       "      <td>Both</td>\n",
       "      <td>GHS 101-200</td>\n",
       "      <td>1</td>\n",
       "      <td>False</td>\n",
       "      <td>False</td>\n",
       "      <td>True</td>\n",
       "      <td>2</td>\n",
       "      <td>4</td>\n",
       "      <td>2</td>\n",
       "      <td>4</td>\n",
       "      <td>150.5</td>\n",
       "    </tr>\n",
       "    <tr>\n",
       "      <th>3</th>\n",
       "      <td>25-34</td>\n",
       "      <td>Transgender</td>\n",
       "      <td>Postgraduate</td>\n",
       "      <td>Self-employed</td>\n",
       "      <td>MTN</td>\n",
       "      <td>Pricing</td>\n",
       "      <td>3-4 years</td>\n",
       "      <td>Postpaid</td>\n",
       "      <td>More than GHS 400</td>\n",
       "      <td>1</td>\n",
       "      <td>True</td>\n",
       "      <td>True</td>\n",
       "      <td>False</td>\n",
       "      <td>5</td>\n",
       "      <td>7</td>\n",
       "      <td>3</td>\n",
       "      <td>2</td>\n",
       "      <td>400.0</td>\n",
       "    </tr>\n",
       "    <tr>\n",
       "      <th>4</th>\n",
       "      <td>25-34</td>\n",
       "      <td>Transgender</td>\n",
       "      <td>Primary School</td>\n",
       "      <td>Employed full-time</td>\n",
       "      <td>Glo</td>\n",
       "      <td>Customer Service</td>\n",
       "      <td>Less than 6 months</td>\n",
       "      <td>Both</td>\n",
       "      <td>More than GHS 400</td>\n",
       "      <td>0</td>\n",
       "      <td>False</td>\n",
       "      <td>True</td>\n",
       "      <td>False</td>\n",
       "      <td>1</td>\n",
       "      <td>7</td>\n",
       "      <td>3</td>\n",
       "      <td>2</td>\n",
       "      <td>400.0</td>\n",
       "    </tr>\n",
       "  </tbody>\n",
       "</table>\n",
       "</div>"
      ],
      "text/plain": [
       "  AgeGroup       Gender             Education    EmploymentStatus  \\\n",
       "0    25-34  Transgender        Primary School             Retired   \n",
       "1    55-64         Male  High school graduate  Employed part-time   \n",
       "2    45-54       Female  High school graduate  Employed full-time   \n",
       "3    25-34  Transgender          Postgraduate       Self-employed   \n",
       "4    25-34  Transgender        Primary School  Employed full-time   \n",
       "\n",
       "  TelecomCompany ReasonForChoosing DurationWithCompany  PlanType  \\\n",
       "0     AirtelTigo          Coverage           1-2 years      Both   \n",
       "1       Vodafone  Customer Service         6-12 months  Postpaid   \n",
       "2            MTN          Coverage           3-4 years      Both   \n",
       "3            MTN           Pricing           3-4 years  Postpaid   \n",
       "4            Glo  Customer Service  Less than 6 months      Both   \n",
       "\n",
       "      MonthlyCharges  Churn  ChurnReason_NetworkCoverage  \\\n",
       "0        GHS 101-200      0                        False   \n",
       "1        GHS 301-400      1                         True   \n",
       "2        GHS 101-200      1                        False   \n",
       "3  More than GHS 400      1                         True   \n",
       "4  More than GHS 400      0                        False   \n",
       "\n",
       "   ChurnReason_CustomerService  ChurnReason_Pricing  ChurnLikelihood  \\\n",
       "0                        False                False                2   \n",
       "1                         True                 True                1   \n",
       "2                        False                 True                2   \n",
       "3                         True                False                5   \n",
       "4                         True                False                1   \n",
       "\n",
       "   MonthlyCharges_Numeric  Gender_Numeric  AgeGroup_Numeric  Monthly_Charges  \n",
       "0                       4               3                 2            150.5  \n",
       "1                       0               1                 5            350.5  \n",
       "2                       4               2                 4            150.5  \n",
       "3                       7               3                 2            400.0  \n",
       "4                       7               3                 2            400.0  "
      ]
     },
     "execution_count": 41,
     "metadata": {},
     "output_type": "execute_result"
    }
   ],
   "source": [
    "df.head()"
   ]
  },
  {
   "cell_type": "code",
   "execution_count": 42,
   "metadata": {},
   "outputs": [],
   "source": [
    "df.drop(columns = 'MonthlyCharges', inplace = True)"
   ]
  },
  {
   "cell_type": "code",
   "execution_count": 43,
   "metadata": {},
   "outputs": [
    {
     "data": {
      "text/html": [
       "<div>\n",
       "<style scoped>\n",
       "    .dataframe tbody tr th:only-of-type {\n",
       "        vertical-align: middle;\n",
       "    }\n",
       "\n",
       "    .dataframe tbody tr th {\n",
       "        vertical-align: top;\n",
       "    }\n",
       "\n",
       "    .dataframe thead th {\n",
       "        text-align: right;\n",
       "    }\n",
       "</style>\n",
       "<table border=\"1\" class=\"dataframe\">\n",
       "  <thead>\n",
       "    <tr style=\"text-align: right;\">\n",
       "      <th></th>\n",
       "      <th>AgeGroup</th>\n",
       "      <th>Gender</th>\n",
       "      <th>Education</th>\n",
       "      <th>EmploymentStatus</th>\n",
       "      <th>TelecomCompany</th>\n",
       "      <th>ReasonForChoosing</th>\n",
       "      <th>DurationWithCompany</th>\n",
       "      <th>PlanType</th>\n",
       "      <th>Churn</th>\n",
       "      <th>ChurnReason_NetworkCoverage</th>\n",
       "      <th>ChurnReason_CustomerService</th>\n",
       "      <th>ChurnReason_Pricing</th>\n",
       "      <th>ChurnLikelihood</th>\n",
       "      <th>MonthlyCharges_Numeric</th>\n",
       "      <th>Gender_Numeric</th>\n",
       "      <th>AgeGroup_Numeric</th>\n",
       "      <th>Monthly_Charges</th>\n",
       "    </tr>\n",
       "  </thead>\n",
       "  <tbody>\n",
       "    <tr>\n",
       "      <th>0</th>\n",
       "      <td>25-34</td>\n",
       "      <td>Transgender</td>\n",
       "      <td>Primary School</td>\n",
       "      <td>Retired</td>\n",
       "      <td>AirtelTigo</td>\n",
       "      <td>Coverage</td>\n",
       "      <td>1-2 years</td>\n",
       "      <td>Both</td>\n",
       "      <td>0</td>\n",
       "      <td>False</td>\n",
       "      <td>False</td>\n",
       "      <td>False</td>\n",
       "      <td>2</td>\n",
       "      <td>4</td>\n",
       "      <td>3</td>\n",
       "      <td>2</td>\n",
       "      <td>150.5</td>\n",
       "    </tr>\n",
       "    <tr>\n",
       "      <th>1</th>\n",
       "      <td>55-64</td>\n",
       "      <td>Male</td>\n",
       "      <td>High school graduate</td>\n",
       "      <td>Employed part-time</td>\n",
       "      <td>Vodafone</td>\n",
       "      <td>Customer Service</td>\n",
       "      <td>6-12 months</td>\n",
       "      <td>Postpaid</td>\n",
       "      <td>1</td>\n",
       "      <td>True</td>\n",
       "      <td>True</td>\n",
       "      <td>True</td>\n",
       "      <td>1</td>\n",
       "      <td>0</td>\n",
       "      <td>1</td>\n",
       "      <td>5</td>\n",
       "      <td>350.5</td>\n",
       "    </tr>\n",
       "    <tr>\n",
       "      <th>2</th>\n",
       "      <td>45-54</td>\n",
       "      <td>Female</td>\n",
       "      <td>High school graduate</td>\n",
       "      <td>Employed full-time</td>\n",
       "      <td>MTN</td>\n",
       "      <td>Coverage</td>\n",
       "      <td>3-4 years</td>\n",
       "      <td>Both</td>\n",
       "      <td>1</td>\n",
       "      <td>False</td>\n",
       "      <td>False</td>\n",
       "      <td>True</td>\n",
       "      <td>2</td>\n",
       "      <td>4</td>\n",
       "      <td>2</td>\n",
       "      <td>4</td>\n",
       "      <td>150.5</td>\n",
       "    </tr>\n",
       "    <tr>\n",
       "      <th>3</th>\n",
       "      <td>25-34</td>\n",
       "      <td>Transgender</td>\n",
       "      <td>Postgraduate</td>\n",
       "      <td>Self-employed</td>\n",
       "      <td>MTN</td>\n",
       "      <td>Pricing</td>\n",
       "      <td>3-4 years</td>\n",
       "      <td>Postpaid</td>\n",
       "      <td>1</td>\n",
       "      <td>True</td>\n",
       "      <td>True</td>\n",
       "      <td>False</td>\n",
       "      <td>5</td>\n",
       "      <td>7</td>\n",
       "      <td>3</td>\n",
       "      <td>2</td>\n",
       "      <td>400.0</td>\n",
       "    </tr>\n",
       "    <tr>\n",
       "      <th>4</th>\n",
       "      <td>25-34</td>\n",
       "      <td>Transgender</td>\n",
       "      <td>Primary School</td>\n",
       "      <td>Employed full-time</td>\n",
       "      <td>Glo</td>\n",
       "      <td>Customer Service</td>\n",
       "      <td>Less than 6 months</td>\n",
       "      <td>Both</td>\n",
       "      <td>0</td>\n",
       "      <td>False</td>\n",
       "      <td>True</td>\n",
       "      <td>False</td>\n",
       "      <td>1</td>\n",
       "      <td>7</td>\n",
       "      <td>3</td>\n",
       "      <td>2</td>\n",
       "      <td>400.0</td>\n",
       "    </tr>\n",
       "  </tbody>\n",
       "</table>\n",
       "</div>"
      ],
      "text/plain": [
       "  AgeGroup       Gender             Education    EmploymentStatus  \\\n",
       "0    25-34  Transgender        Primary School             Retired   \n",
       "1    55-64         Male  High school graduate  Employed part-time   \n",
       "2    45-54       Female  High school graduate  Employed full-time   \n",
       "3    25-34  Transgender          Postgraduate       Self-employed   \n",
       "4    25-34  Transgender        Primary School  Employed full-time   \n",
       "\n",
       "  TelecomCompany ReasonForChoosing DurationWithCompany  PlanType  Churn  \\\n",
       "0     AirtelTigo          Coverage           1-2 years      Both      0   \n",
       "1       Vodafone  Customer Service         6-12 months  Postpaid      1   \n",
       "2            MTN          Coverage           3-4 years      Both      1   \n",
       "3            MTN           Pricing           3-4 years  Postpaid      1   \n",
       "4            Glo  Customer Service  Less than 6 months      Both      0   \n",
       "\n",
       "   ChurnReason_NetworkCoverage  ChurnReason_CustomerService  \\\n",
       "0                        False                        False   \n",
       "1                         True                         True   \n",
       "2                        False                        False   \n",
       "3                         True                         True   \n",
       "4                        False                         True   \n",
       "\n",
       "   ChurnReason_Pricing  ChurnLikelihood  MonthlyCharges_Numeric  \\\n",
       "0                False                2                       4   \n",
       "1                 True                1                       0   \n",
       "2                 True                2                       4   \n",
       "3                False                5                       7   \n",
       "4                False                1                       7   \n",
       "\n",
       "   Gender_Numeric  AgeGroup_Numeric  Monthly_Charges  \n",
       "0               3                 2            150.5  \n",
       "1               1                 5            350.5  \n",
       "2               2                 4            150.5  \n",
       "3               3                 2            400.0  \n",
       "4               3                 2            400.0  "
      ]
     },
     "execution_count": 43,
     "metadata": {},
     "output_type": "execute_result"
    }
   ],
   "source": [
    "df.head()"
   ]
  },
  {
   "cell_type": "code",
   "execution_count": 44,
   "metadata": {},
   "outputs": [
    {
     "data": {
      "text/plain": [
       "0                1-2 years\n",
       "1              6-12 months\n",
       "2                3-4 years\n",
       "3                3-4 years\n",
       "4       Less than 6 months\n",
       "               ...        \n",
       "1966       5 or more years\n",
       "1967             1-2 years\n",
       "1968    Less than 6 months\n",
       "1969           6-12 months\n",
       "1970       5 or more years\n",
       "Name: DurationWithCompany, Length: 1843, dtype: category\n",
       "Categories (5, object): ['1-2 years', '3-4 years', '5 or more years', '6-12 months', 'Less than 6 months']"
      ]
     },
     "execution_count": 44,
     "metadata": {},
     "output_type": "execute_result"
    }
   ],
   "source": [
    "df['DurationWithCompany']"
   ]
  },
  {
   "cell_type": "code",
   "execution_count": 45,
   "metadata": {},
   "outputs": [
    {
     "data": {
      "text/html": [
       "<div>\n",
       "<style scoped>\n",
       "    .dataframe tbody tr th:only-of-type {\n",
       "        vertical-align: middle;\n",
       "    }\n",
       "\n",
       "    .dataframe tbody tr th {\n",
       "        vertical-align: top;\n",
       "    }\n",
       "\n",
       "    .dataframe thead th {\n",
       "        text-align: right;\n",
       "    }\n",
       "</style>\n",
       "<table border=\"1\" class=\"dataframe\">\n",
       "  <thead>\n",
       "    <tr style=\"text-align: right;\">\n",
       "      <th></th>\n",
       "      <th>DurationWithCompany</th>\n",
       "      <th>DurationWithCompany_Numeric</th>\n",
       "    </tr>\n",
       "  </thead>\n",
       "  <tbody>\n",
       "    <tr>\n",
       "      <th>0</th>\n",
       "      <td>1-2 years</td>\n",
       "      <td>2</td>\n",
       "    </tr>\n",
       "    <tr>\n",
       "      <th>1</th>\n",
       "      <td>6-12 months</td>\n",
       "      <td>1</td>\n",
       "    </tr>\n",
       "    <tr>\n",
       "      <th>2</th>\n",
       "      <td>3-4 years</td>\n",
       "      <td>3</td>\n",
       "    </tr>\n",
       "    <tr>\n",
       "      <th>3</th>\n",
       "      <td>3-4 years</td>\n",
       "      <td>3</td>\n",
       "    </tr>\n",
       "    <tr>\n",
       "      <th>4</th>\n",
       "      <td>Less than 6 months</td>\n",
       "      <td>0</td>\n",
       "    </tr>\n",
       "  </tbody>\n",
       "</table>\n",
       "</div>"
      ],
      "text/plain": [
       "  DurationWithCompany DurationWithCompany_Numeric\n",
       "0           1-2 years                           2\n",
       "1         6-12 months                           1\n",
       "2           3-4 years                           3\n",
       "3           3-4 years                           3\n",
       "4  Less than 6 months                           0"
      ]
     },
     "execution_count": 45,
     "metadata": {},
     "output_type": "execute_result"
    }
   ],
   "source": [
    "# Create the mapping for 'DurationWithCompany'\n",
    "duration_map = {\n",
    "    'Less than 6 months': 0,\n",
    "    '6-12 months': 1,\n",
    "    '1-2 years': 2,\n",
    "    '3-4 years': 3,\n",
    "    '5 or more years': 4\n",
    "}\n",
    "\n",
    "# Apply the mapping to the 'DurationWithCompany' column\n",
    "df['DurationWithCompany_Numeric'] = df['DurationWithCompany'].map(duration_map)\n",
    "\n",
    "# Check the result\n",
    "df[['DurationWithCompany', 'DurationWithCompany_Numeric']].head()\n"
   ]
  },
  {
   "cell_type": "code",
   "execution_count": 46,
   "metadata": {},
   "outputs": [],
   "source": [
    "## Distribution of Cat Data"
   ]
  },
  {
   "cell_type": "code",
   "execution_count": 47,
   "metadata": {},
   "outputs": [
    {
     "data": {
      "image/png": "[encoded data removed]",
      "text/plain": [
       "<Figure size 640x480 with 1 Axes>"
      ]
     },
     "metadata": {},
     "output_type": "display_data"
    }
   ],
   "source": [
    "sns.countplot(x='AgeGroup', data=df)\n",
    "plt.title('Distribution of Age Groups')\n",
    "plt.show()"
   ]
  },
  {
   "cell_type": "code",
   "execution_count": 48,
   "metadata": {},
   "outputs": [],
   "source": [
    "## Univariate Analysis"
   ]
  },
  {
   "cell_type": "code",
   "execution_count": 49,
   "metadata": {},
   "outputs": [
    {
     "data": {
      "image/png": "[encoded data removed]",
      "text/plain": [
       "<Figure size 640x480 with 1 Axes>"
      ]
     },
     "metadata": {},
     "output_type": "display_data"
    }
   ],
   "source": [
    "df['Monthly_Charges'].hist(bins=20, color='skyblue')\n",
    "plt.title('Distribution of Monthly Charges')\n",
    "plt.xlabel('Monthly Charges')\n",
    "plt.ylabel('Frequency')\n",
    "plt.show()"
   ]
  },
  {
   "cell_type": "code",
   "execution_count": 50,
   "metadata": {},
   "outputs": [
    {
     "data": {
      "image/png": "[encoded data removed]",
      "text/plain": [
       "<Figure size 640x480 with 1 Axes>"
      ]
     },
     "metadata": {},
     "output_type": "display_data"
    }
   ],
   "source": [
    "sns.boxplot(x='Churn', y='Monthly_Charges', data=df)\n",
    "plt.title('Boxplot of Monthly Charges vs Churn')\n",
    "plt.show()"
   ]
  },
  {
   "cell_type": "code",
   "execution_count": 51,
   "metadata": {},
   "outputs": [
    {
     "data": {
      "image/png": "[encoded data removed]",
      "text/plain": [
       "<Figure size 640x480 with 1 Axes>"
      ]
     },
     "metadata": {},
     "output_type": "display_data"
    }
   ],
   "source": [
    "sns.countplot(x='Gender', data=df)\n",
    "plt.title('Gender Distribution')\n",
    "plt.show()"
   ]
  },
  {
   "cell_type": "code",
   "execution_count": 52,
   "metadata": {},
   "outputs": [],
   "source": [
    "## Bivariate Analysis"
   ]
  },
  {
   "cell_type": "code",
   "execution_count": 53,
   "metadata": {},
   "outputs": [
    {
     "data": {
      "image/png": "[encoded data removed]",
      "text/plain": [
       "<Figure size 640x480 with 1 Axes>"
      ]
     },
     "metadata": {},
     "output_type": "display_data"
    }
   ],
   "source": [
    "sns.scatterplot(x='Monthly_Charges', y='DurationWithCompany', data=df)\n",
    "plt.title('Scatter Plot of Monthly Charges vs Duration with Company')\n",
    "plt.show()"
   ]
  },
  {
   "cell_type": "code",
   "execution_count": 54,
   "metadata": {},
   "outputs": [
    {
     "data": {
      "image/png": "[encoded data removed]",
      "text/plain": [
       "<Figure size 1200x800 with 2 Axes>"
      ]
     },
     "metadata": {},
     "output_type": "display_data"
    }
   ],
   "source": [
    "# Select only numeric columns\n",
    "numeric_df = df.select_dtypes(include='number')\n",
    "\n",
    "# Compute correlation matrix\n",
    "corr = numeric_df.corr()\n",
    "\n",
    "# Plot the heatmap\n",
    "plt.figure(figsize=(12, 8))\n",
    "sns.heatmap(corr, annot=True, cmap='coolwarm', fmt='.2f')\n",
    "plt.title('Correlation Heatmap')\n",
    "plt.show()"
   ]
  },
  {
   "cell_type": "code",
   "execution_count": 55,
   "metadata": {},
   "outputs": [
    {
     "data": {
      "image/png": "[encoded data removed]",
      "text/plain": [
       "<Figure size 750x750 with 12 Axes>"
      ]
     },
     "metadata": {},
     "output_type": "display_data"
    }
   ],
   "source": [
    "sns.pairplot(df[['Monthly_Charges', 'DurationWithCompany', 'AgeGroup_Numeric', 'ChurnLikelihood']])\n",
    "plt.show()"
   ]
  },
  {
   "cell_type": "code",
   "execution_count": 56,
   "metadata": {},
   "outputs": [],
   "source": [
    "## Multivariate Analysis"
   ]
  },
  {
   "cell_type": "code",
   "execution_count": 57,
   "metadata": {},
   "outputs": [
    {
     "data": {
      "image/png": "[encoded data removed]",
      "text/plain": [
       "<Figure size 600x300 with 2 Axes>"
      ]
     },
     "metadata": {},
     "output_type": "display_data"
    }
   ],
   "source": [
    "g = sns.FacetGrid(df, col='Churn', hue='Gender')\n",
    "g.map(sns.scatterplot, 'Monthly_Charges', 'DurationWithCompany')\n",
    "plt.show()"
   ]
  },
  {
   "cell_type": "code",
   "execution_count": 58,
   "metadata": {},
   "outputs": [
    {
     "data": {
      "image/png": "[encoded data removed]",
      "text/plain": [
       "<Figure size 640x480 with 1 Axes>"
      ]
     },
     "metadata": {},
     "output_type": "display_data"
    }
   ],
   "source": [
    "sns.violinplot(x='Gender', y='Monthly_Charges', data=df)\n",
    "plt.title('Violin Plot of Monthly Charges by Gender')\n",
    "plt.show()"
   ]
  },
  {
   "cell_type": "code",
   "execution_count": 59,
   "metadata": {},
   "outputs": [
    {
     "data": {
      "image/png": "[encoded data removed]",
      "text/plain": [
       "<Figure size 640x480 with 1 Axes>"
      ]
     },
     "metadata": {},
     "output_type": "display_data"
    }
   ],
   "source": [
    "df.groupby(['Churn', 'Gender']).size().unstack().plot(kind='bar', stacked=True)\n",
    "plt.title('Stacked Bar Chart of Churn vs Gender')\n",
    "plt.show()"
   ]
  },
  {
   "cell_type": "code",
   "execution_count": 60,
   "metadata": {},
   "outputs": [],
   "source": [
    "## Outlier Detection"
   ]
  },
  {
   "cell_type": "code",
   "execution_count": 61,
   "metadata": {},
   "outputs": [
    {
     "data": {
      "image/png": "[encoded data removed]",
      "text/plain": [
       "<Figure size 640x480 with 1 Axes>"
      ]
     },
     "metadata": {},
     "output_type": "display_data"
    }
   ],
   "source": [
    "sns.boxplot(x='Monthly_Charges', data=df)\n",
    "plt.title('Boxplot for Outliers in Monthly Charges')\n",
    "plt.show()"
   ]
  },
  {
   "cell_type": "code",
   "execution_count": 62,
   "metadata": {},
   "outputs": [
    {
     "data": {
      "text/plain": [
       "Index(['AgeGroup', 'Gender', 'Education', 'EmploymentStatus', 'TelecomCompany',\n",
       "       'ReasonForChoosing', 'DurationWithCompany', 'PlanType', 'Churn',\n",
       "       'ChurnReason_NetworkCoverage', 'ChurnReason_CustomerService',\n",
       "       'ChurnReason_Pricing', 'ChurnLikelihood', 'MonthlyCharges_Numeric',\n",
       "       'Gender_Numeric', 'AgeGroup_Numeric', 'Monthly_Charges',\n",
       "       'DurationWithCompany_Numeric'],\n",
       "      dtype='object')"
      ]
     },
     "execution_count": 62,
     "metadata": {},
     "output_type": "execute_result"
    }
   ],
   "source": [
    "df.columns"
   ]
  },
  {
   "cell_type": "code",
   "execution_count": null,
   "metadata": {},
   "outputs": [],
   "source": []
  },
  {
   "cell_type": "code",
   "execution_count": 63,
   "metadata": {},
   "outputs": [],
   "source": [
    "## Training and testing for Modelling "
   ]
  },
  {
   "cell_type": "code",
   "execution_count": 64,
   "metadata": {},
   "outputs": [],
   "source": [
    "from sklearn.model_selection import train_test_split\n",
    "\n",
    "X = df.drop('Churn', axis=1)\n",
    "y = df['Churn']  # Or ChurnLikelihood if that's your target\n",
    "\n",
    "X_train, X_test, y_train, y_test = train_test_split(X, y, test_size=0.2, random_state=42)"
   ]
  },
  {
   "cell_type": "code",
   "execution_count": 65,
   "metadata": {},
   "outputs": [],
   "source": [
    "## %pip install xgboost"
   ]
  },
  {
   "cell_type": "code",
   "execution_count": 69,
   "metadata": {},
   "outputs": [
    {
     "name": "stdout",
     "output_type": "stream",
     "text": [
      "\n",
      "📌 Logistic Regression Performance:\n",
      "Accuracy: 0.5556\n",
      "Precision: 0.5564\n",
      "Recall: 0.5559\n",
      "F1 Score: 0.5548\n",
      "[[110  73]\n",
      " [ 91  95]]\n",
      "              precision    recall  f1-score   support\n",
      "\n",
      "           0     0.5473    0.6011    0.5729       183\n",
      "           1     0.5655    0.5108    0.5367       186\n",
      "\n",
      "    accuracy                         0.5556       369\n",
      "   macro avg     0.5564    0.5559    0.5548       369\n",
      "weighted avg     0.5564    0.5556    0.5547       369\n",
      "\n",
      "\n",
      "📌 Random Forest Performance:\n",
      "Accuracy: 0.8293\n",
      "Precision: 0.8320\n",
      "Recall: 0.8296\n",
      "F1 Score: 0.8290\n",
      "[[160  23]\n",
      " [ 40 146]]\n",
      "              precision    recall  f1-score   support\n",
      "\n",
      "           0     0.8000    0.8743    0.8355       183\n",
      "           1     0.8639    0.7849    0.8225       186\n",
      "\n",
      "    accuracy                         0.8293       369\n",
      "   macro avg     0.8320    0.8296    0.8290       369\n",
      "weighted avg     0.8322    0.8293    0.8290       369\n",
      "\n",
      "\n",
      "📌 Decision Tree Performance:\n",
      "Accuracy: 0.7913\n",
      "Precision: 0.7913\n",
      "Recall: 0.7913\n",
      "F1 Score: 0.7913\n",
      "[[144  39]\n",
      " [ 38 148]]\n",
      "              precision    recall  f1-score   support\n",
      "\n",
      "           0     0.7912    0.7869    0.7890       183\n",
      "           1     0.7914    0.7957    0.7936       186\n",
      "\n",
      "    accuracy                         0.7913       369\n",
      "   macro avg     0.7913    0.7913    0.7913       369\n",
      "weighted avg     0.7913    0.7913    0.7913       369\n",
      "\n",
      "\n",
      "📌 XGBoost Performance:\n",
      "Accuracy: 0.7696\n",
      "Precision: 0.7700\n",
      "Recall: 0.7698\n",
      "F1 Score: 0.7696\n",
      "[[144  39]\n",
      " [ 46 140]]\n",
      "              precision    recall  f1-score   support\n",
      "\n",
      "           0     0.7579    0.7869    0.7721       183\n",
      "           1     0.7821    0.7527    0.7671       186\n",
      "\n",
      "    accuracy                         0.7696       369\n",
      "   macro avg     0.7700    0.7698    0.7696       369\n",
      "weighted avg     0.7701    0.7696    0.7696       369\n",
      "\n",
      "\n",
      "📊 Model Performance Comparison:\n",
      " Accuracy  Precision   Recall  F1 Score\n",
      " 0.555556   0.556370 0.555923  0.554820\n",
      " 0.829268   0.831953 0.829632  0.829022\n",
      " 0.791328   0.791326 0.791292  0.791303\n",
      " 0.769648   0.770009 0.769787  0.769621\n"
     ]
    }
   ],
   "source": [
    "from sklearn.model_selection import train_test_split\n",
    "from sklearn.metrics import accuracy_score, classification_report, confusion_matrix\n",
    "\n",
    "# Models\n",
    "from sklearn.linear_model import LogisticRegression\n",
    "from sklearn.ensemble import RandomForestClassifier\n",
    "from sklearn.tree import DecisionTreeClassifier\n",
    "from xgboost import XGBClassifier\n",
    "\n",
    "# ✅ Step 1: One-hot encode all categorical columns\n",
    "df_encoded = pd.get_dummies(df, drop_first=True)  # drop_first avoids dummy trap\n",
    "\n",
    "# ✅ Step 2: Define X and y\n",
    "X = df_encoded.drop('Churn', axis=1)\n",
    "y = df_encoded['Churn']\n",
    "\n",
    "# ✅ Step 3: Train-test split\n",
    "X_train, X_test, y_train, y_test = train_test_split(X, y, test_size=0.2, random_state=42)\n",
    "\n",
    "# ✅ Step 4: Define and train models\n",
    "models = {\n",
    "    \"Logistic Regression\": LogisticRegression(max_iter=1000),\n",
    "    \"Random Forest\": RandomForestClassifier(n_estimators=100, random_state=42),\n",
    "    \"Decision Tree\": DecisionTreeClassifier(random_state=42),\n",
    "    \"XGBoost\": XGBClassifier(use_label_encoder=False, eval_metric='logloss')\n",
    "}\n",
    "\n",
    "# ✅ Step 5: Train, predict, and evaluate\n",
    "\n",
    "# Store metrics as dictionaries\n",
    "metrics = {\n",
    "    \"Accuracy\": {},\n",
    "    \"Precision\": {},\n",
    "    \"Recall\": {},\n",
    "    \"F1 Score\": {}\n",
    "}\n",
    "\n",
    "for name, model in models.items():\n",
    "    model.fit(X_train, y_train)\n",
    "    preds = model.predict(X_test)\n",
    "\n",
    "    acc = accuracy_score(y_test, preds)\n",
    "    report = classification_report(y_test, preds, output_dict=True)\n",
    "\n",
    "    # Extract precision, recall, and F1 scores for each model\n",
    "    precision = report['macro avg']['precision']\n",
    "    recall = report['macro avg']['recall']\n",
    "    f1 = report['macro avg']['f1-score']\n",
    "\n",
    "    # Store the metrics in the dictionaries\n",
    "    metrics[\"Accuracy\"][name] = acc\n",
    "    metrics[\"Precision\"][name] = precision\n",
    "    metrics[\"Recall\"][name] = recall\n",
    "    metrics[\"F1 Score\"][name] = f1\n",
    "\n",
    "    # Print detailed report for each model\n",
    "    print(f\"\\n📌 {name} Performance:\")\n",
    "    print(f\"Accuracy: {acc:.4f}\")\n",
    "    print(f\"Precision: {precision:.4f}\")\n",
    "    print(f\"Recall: {recall:.4f}\")\n",
    "    print(f\"F1 Score: {f1:.4f}\")\n",
    "    print(confusion_matrix(y_test, preds))\n",
    "    print(classification_report(y_test, preds, digits=4))\n",
    "\n",
    "# Convert metrics dictionary to DataFrame for better visualization\n",
    "metrics_df = pd.DataFrame(metrics)\n",
    "\n",
    "# Display the formatted metrics table for all models\n",
    "print(\"\\n📊 Model Performance Comparison:\")\n",
    "print(metrics_df.to_string(index=False))"
   ]
  },
  {
   "cell_type": "code",
   "execution_count": 70,
   "metadata": {},
   "outputs": [],
   "source": [
    "## Visualising the results"
   ]
  },
  {
   "cell_type": "code",
   "execution_count": 71,
   "metadata": {},
   "outputs": [
    {
     "name": "stdout",
     "output_type": "stream",
     "text": [
      "Labels: ['Logistic Regression', 'Random Forest', 'Decision Tree', 'XGBoost']\n",
      "Accuracies: [0.5555555555555556, 0.8292682926829268, 0.7913279132791328, 0.7696476964769647]\n",
      "Precisions: [0.5563699360341151, 0.8319526627218935, 0.7913263207380854, 0.7700088209350191]\n",
      "Recalls: [0.5559227921734532, 0.829631588224925, 0.791292085316411, 0.769786708972325]\n"
     ]
    },
    {
     "data": {
      "image/png": "[encoded data removed]",
      "text/plain": [
       "<Figure size 1200x600 with 1 Axes>"
      ]
     },
     "metadata": {},
     "output_type": "display_data"
    }
   ],
   "source": [
    "# ✅ Modified Plot: Safer & Robust Grouped Bar Chart\n",
    "labels = list(models.keys())\n",
    "x = np.arange(len(labels))  # label locations\n",
    "width = 0.25  # width of the bars\n",
    "\n",
    "# Use .get() with default fallback to 0 if key is missing\n",
    "accuracy_vals = [metrics[\"Accuracy\"].get(model, 0) for model in labels]\n",
    "precision_vals = [metrics[\"Precision\"].get(model, 0) for model in labels]\n",
    "recall_vals = [metrics[\"Recall\"].get(model, 0) for model in labels]\n",
    "\n",
    "# Debug print to verify data presence\n",
    "print(\"Labels:\", labels)\n",
    "print(\"Accuracies:\", accuracy_vals)\n",
    "print(\"Precisions:\", precision_vals)\n",
    "print(\"Recalls:\", recall_vals)\n",
    "\n",
    "fig, ax = plt.subplots(figsize=(12, 6))\n",
    "ax.bar(x - width, accuracy_vals, width, label='Accuracy', color='skyblue')\n",
    "ax.bar(x, precision_vals, width, label='Precision', color='lightgreen')\n",
    "ax.bar(x + width, recall_vals, width, label='Recall', color='salmon')\n",
    "\n",
    "ax.set_ylabel('Score')\n",
    "ax.set_ylim(0, 1)\n",
    "ax.set_title('Model Performance Comparison')\n",
    "ax.set_xticks(x)\n",
    "ax.set_xticklabels(labels, rotation=45)\n",
    "ax.legend()\n",
    "ax.grid(axis='y', linestyle='--', alpha=0.7)\n",
    "plt.tight_layout()\n",
    "plt.show()"
   ]
  },
  {
   "cell_type": "code",
   "execution_count": 72,
   "metadata": {},
   "outputs": [],
   "source": [
    "## Comparing model performance"
   ]
  },
  {
   "cell_type": "code",
   "execution_count": 73,
   "metadata": {},
   "outputs": [
    {
     "data": {
      "text/html": [
       "<div>\n",
       "<style scoped>\n",
       "    .dataframe tbody tr th:only-of-type {\n",
       "        vertical-align: middle;\n",
       "    }\n",
       "\n",
       "    .dataframe tbody tr th {\n",
       "        vertical-align: top;\n",
       "    }\n",
       "\n",
       "    .dataframe thead th {\n",
       "        text-align: right;\n",
       "    }\n",
       "</style>\n",
       "<table border=\"1\" class=\"dataframe\">\n",
       "  <thead>\n",
       "    <tr style=\"text-align: right;\">\n",
       "      <th></th>\n",
       "      <th>Model</th>\n",
       "      <th>Accuracy</th>\n",
       "      <th>F1 Score</th>\n",
       "    </tr>\n",
       "  </thead>\n",
       "  <tbody>\n",
       "    <tr>\n",
       "      <th>0</th>\n",
       "      <td>Logistic Regression</td>\n",
       "      <td>0.555556</td>\n",
       "      <td>0.554673</td>\n",
       "    </tr>\n",
       "    <tr>\n",
       "      <th>1</th>\n",
       "      <td>Random Forest</td>\n",
       "      <td>0.829268</td>\n",
       "      <td>0.828969</td>\n",
       "    </tr>\n",
       "    <tr>\n",
       "      <th>2</th>\n",
       "      <td>Decision Tree</td>\n",
       "      <td>0.791328</td>\n",
       "      <td>0.791322</td>\n",
       "    </tr>\n",
       "    <tr>\n",
       "      <th>3</th>\n",
       "      <td>XGBoost</td>\n",
       "      <td>0.769648</td>\n",
       "      <td>0.769600</td>\n",
       "    </tr>\n",
       "  </tbody>\n",
       "</table>\n",
       "</div>"
      ],
      "text/plain": [
       "                 Model  Accuracy  F1 Score\n",
       "0  Logistic Regression  0.555556  0.554673\n",
       "1        Random Forest  0.829268  0.828969\n",
       "2        Decision Tree  0.791328  0.791322\n",
       "3              XGBoost  0.769648  0.769600"
      ]
     },
     "execution_count": 73,
     "metadata": {},
     "output_type": "execute_result"
    }
   ],
   "source": [
    "results = []\n",
    "\n",
    "for name, model in models.items():\n",
    "    model.fit(X_train, y_train)\n",
    "    preds = model.predict(X_test)\n",
    "    acc = accuracy_score(y_test, preds)\n",
    "    report = classification_report(y_test, preds, output_dict=True)\n",
    "    f1 = report['weighted avg']['f1-score']\n",
    "    results.append({'Model': name, 'Accuracy': acc, 'F1 Score': f1})\n",
    "\n",
    "pd.DataFrame(results)"
   ]
  },
  {
   "cell_type": "code",
   "execution_count": 74,
   "metadata": {},
   "outputs": [],
   "source": [
    "## Checking Feature Importance"
   ]
  },
  {
   "cell_type": "code",
   "execution_count": 75,
   "metadata": {},
   "outputs": [
    {
     "data": {
      "image/png": "[encoded data removed]",
      "text/plain": [
       "<Figure size 800x600 with 1 Axes>"
      ]
     },
     "metadata": {},
     "output_type": "display_data"
    }
   ],
   "source": [
    "# For tree-based models\n",
    "import matplotlib.pyplot as plt\n",
    "\n",
    "rf_model = models[\"Random Forest\"]\n",
    "importances = rf_model.feature_importances_\n",
    "features = X.columns\n",
    "\n",
    "# Plot\n",
    "feat_df = pd.DataFrame({'Feature': features, 'Importance': importances})\n",
    "feat_df.sort_values(by='Importance', ascending=False).head(10).plot(kind='barh', x='Feature', y='Importance', figsize=(8,6), title=\"Top Features\")\n",
    "plt.tight_layout()\n",
    "plt.show()"
   ]
  },
  {
   "cell_type": "code",
   "execution_count": 76,
   "metadata": {},
   "outputs": [],
   "source": [
    "## Hyper Parameter Tuning"
   ]
  },
  {
   "cell_type": "code",
   "execution_count": 77,
   "metadata": {},
   "outputs": [
    {
     "name": "stdout",
     "output_type": "stream",
     "text": [
      "Best Params: {'max_depth': None, 'n_estimators': 200}\n"
     ]
    }
   ],
   "source": [
    "from sklearn.model_selection import GridSearchCV\n",
    "\n",
    "param_grid = {\n",
    "    'n_estimators': [50, 100, 200],\n",
    "    'max_depth': [4, 6, 10, None]\n",
    "}\n",
    "\n",
    "grid = GridSearchCV(RandomForestClassifier(), param_grid, cv=3, scoring='f1_weighted')\n",
    "grid.fit(X_train, y_train)\n",
    "print(\"Best Params:\", grid.best_params_)"
   ]
  },
  {
   "cell_type": "code",
   "execution_count": null,
   "metadata": {},
   "outputs": [],
   "source": []
  },
  {
   "cell_type": "code",
   "execution_count": 78,
   "metadata": {},
   "outputs": [],
   "source": [
    "## Deploying the best model"
   ]
  },
  {
   "cell_type": "code",
   "execution_count": 79,
   "metadata": {},
   "outputs": [
    {
     "data": {
      "text/plain": [
       "['random_forest_model.pkl']"
      ]
     },
     "execution_count": 79,
     "metadata": {},
     "output_type": "execute_result"
    }
   ],
   "source": [
    "import joblib\n",
    "joblib.dump(rf_model, 'random_forest_model.pkl')"
   ]
  },
  {
   "cell_type": "code",
   "execution_count": null,
   "metadata": {},
   "outputs": [],
   "source": []
  },
  {
   "cell_type": "code",
   "execution_count": 80,
   "metadata": {},
   "outputs": [],
   "source": [
    "## Loading the Best Model and testing it"
   ]
  },
  {
   "cell_type": "code",
   "execution_count": 81,
   "metadata": {},
   "outputs": [],
   "source": [
    "model = joblib.load('random_forest_model.pkl')\n",
    "pred = pd.DataFrame(model.predict(X_test))"
   ]
  },
  {
   "cell_type": "code",
   "execution_count": 82,
   "metadata": {},
   "outputs": [
    {
     "data": {
      "text/html": [
       "<div>\n",
       "<style scoped>\n",
       "    .dataframe tbody tr th:only-of-type {\n",
       "        vertical-align: middle;\n",
       "    }\n",
       "\n",
       "    .dataframe tbody tr th {\n",
       "        vertical-align: top;\n",
       "    }\n",
       "\n",
       "    .dataframe thead th {\n",
       "        text-align: right;\n",
       "    }\n",
       "</style>\n",
       "<table border=\"1\" class=\"dataframe\">\n",
       "  <thead>\n",
       "    <tr style=\"text-align: right;\">\n",
       "      <th></th>\n",
       "      <th>0</th>\n",
       "    </tr>\n",
       "  </thead>\n",
       "  <tbody>\n",
       "    <tr>\n",
       "      <th>0</th>\n",
       "      <td>0</td>\n",
       "    </tr>\n",
       "    <tr>\n",
       "      <th>1</th>\n",
       "      <td>0</td>\n",
       "    </tr>\n",
       "    <tr>\n",
       "      <th>2</th>\n",
       "      <td>0</td>\n",
       "    </tr>\n",
       "    <tr>\n",
       "      <th>3</th>\n",
       "      <td>1</td>\n",
       "    </tr>\n",
       "    <tr>\n",
       "      <th>4</th>\n",
       "      <td>0</td>\n",
       "    </tr>\n",
       "    <tr>\n",
       "      <th>5</th>\n",
       "      <td>0</td>\n",
       "    </tr>\n",
       "    <tr>\n",
       "      <th>6</th>\n",
       "      <td>0</td>\n",
       "    </tr>\n",
       "    <tr>\n",
       "      <th>7</th>\n",
       "      <td>0</td>\n",
       "    </tr>\n",
       "    <tr>\n",
       "      <th>8</th>\n",
       "      <td>1</td>\n",
       "    </tr>\n",
       "    <tr>\n",
       "      <th>9</th>\n",
       "      <td>0</td>\n",
       "    </tr>\n",
       "  </tbody>\n",
       "</table>\n",
       "</div>"
      ],
      "text/plain": [
       "   0\n",
       "0  0\n",
       "1  0\n",
       "2  0\n",
       "3  1\n",
       "4  0\n",
       "5  0\n",
       "6  0\n",
       "7  0\n",
       "8  1\n",
       "9  0"
      ]
     },
     "execution_count": 82,
     "metadata": {},
     "output_type": "execute_result"
    }
   ],
   "source": [
    "pred.head(10)"
   ]
  },
  {
   "cell_type": "markdown",
   "metadata": {},
   "source": [
    "### *** The END ***"
   ]
  }
 ],
 "metadata": {
  "kernelspec": {
   "display_name": "Python 3 (ipykernel)",
   "language": "python",
   "name": "python3"
  },
  "language_info": {
   "codemirror_mode": {
    "name": "ipython",
    "version": 3
   },
   "file_extension": ".py",
   "mimetype": "text/x-python",
   "name": "python",
   "nbconvert_exporter": "python",
   "pygments_lexer": "ipython3",
   "version": "3.11.5"
  }
 },
 "nbformat": 4,
 "nbformat_minor": 4
}
